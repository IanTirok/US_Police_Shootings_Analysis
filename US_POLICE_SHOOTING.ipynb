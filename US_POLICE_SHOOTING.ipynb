{
 "cells": [
  {
   "cell_type": "markdown",
   "metadata": {
    "id": "1NskKIu5E3Wc"
   },
   "source": [
    "# Describing our Question"
   ]
  },
  {
   "cell_type": "markdown",
   "metadata": {
    "id": "BSQuF59dlYnu"
   },
   "source": [
    "**a) Understanding the context**\n",
    "\n",
    "The trend of fatal police shootings has been increasing since 2015. The rate of fatal police shootings in the United States shows a large difference based on ethnicity. This study therefore seeks  to investigate the main factors that influence police shootings in the United States  in order to  understand police decision making while conducting suspect arrest.\n",
    "\n",
    "\n",
    "**b) Specifying the Question**\n",
    "\n",
    "To investigate the main factors that influence police shootings in the United States  in order to  understand police decision making while conducting suspect arrest. \n",
    "\n",
    "\n",
    "**b) Defining the Metric of success**\n",
    "\n",
    "The analysis to be considered successful we shall provide insights on the factors that highly influence police shootings in the United States  and understand police decision making while conducting suspect arrest and correctly test our hypotheses.\n",
    "\n",
    "\n",
    "**d)  Recording the Expereimental Design**\n",
    "\n",
    "The following steps shall be followed:\n",
    "\n",
    "*   Defining the Question\n",
    "*   Reading the Data.\n",
    "*   Exploring the Data.\n",
    "*   Data Cleaning\n",
    "*   Exploratory Data analysis (Performing Univariate and Bivariate Analysis)\n",
    "*   Creating Visualizations.\n",
    "*   Hypothesis Testing.\n",
    "*  Summary"
   ]
  },
  {
   "cell_type": "markdown",
   "metadata": {
    "id": "CXjliVqQnTP6"
   },
   "source": [
    "#**1. DEFINING THE HYPOTHESIS**"
   ]
  },
  {
   "cell_type": "markdown",
   "metadata": {
    "id": "KJB3mU6_nexs"
   },
   "source": [
    "##1a. Overview\n"
   ]
  },
  {
   "cell_type": "markdown",
   "metadata": {
    "id": "uWLrJ3hy2fGi"
   },
   "source": [
    "\n",
    "Null hypothesis: Type null hypothesis here\n",
    "\n",
    "Alternative hypothesis: Type alt hyopthesis here\n",
    "\n",
    "Keys\n",
    "\n",
    "$H_{0}$ = Null hypothesis\n",
    "\n",
    "$H_{1}$ = Alternative hypothesis\n",
    "\n",
    "$mu_{1}$ = Type variable here (mean)\n",
    "\n",
    "$mu_{2}$ = Type variable here (mean)\n",
    "\n",
    "$H_{0}$: $mu_{1}$ = $mu_{2}$\n",
    "\n",
    "\n",
    "$H_{1}$: $mu_{1}$ ≠ $mu_{2}$"
   ]
  },
  {
   "cell_type": "markdown",
   "metadata": {
    "id": "E_BkTxl_nw_b"
   },
   "source": [
    "##1b. Research Question"
   ]
  },
  {
   "cell_type": "markdown",
   "metadata": {
    "id": "YfcXizg-2jma"
   },
   "source": [
    "1. What are  the main factors influencing police shootings?\n",
    "2. Are the police  biased towards certain individuals?\n",
    "3. How are police shootings distributed across different states and cities?\n"
   ]
  },
  {
   "cell_type": "markdown",
   "metadata": {
    "id": "JjMyGBIGoWLw"
   },
   "source": [
    "##1c. Sampling Strategy"
   ]
  },
  {
   "cell_type": "markdown",
   "metadata": {
    "id": "8Xg2XcyPMijp"
   },
   "source": [
    "###Sampling Plan"
   ]
  },
  {
   "cell_type": "markdown",
   "metadata": {
    "id": "j2mrGSNIMyCC"
   },
   "source": [
    "###Sampling Method"
   ]
  },
  {
   "cell_type": "markdown",
   "metadata": {
    "id": "lMnWZLmVM4oE"
   },
   "source": [
    "###Sample Size"
   ]
  },
  {
   "cell_type": "markdown",
   "metadata": {
    "id": "TQHKdf8Riavt"
   },
   "source": []
  },
  {
   "cell_type": "markdown",
   "metadata": {
    "id": "JkCn3IHM7Prb"
   },
   "source": [
    "# **2. IMPORTING LIBRARIES**\n",
    "\n",
    "\n"
   ]
  },
  {
   "cell_type": "code",
   "execution_count": 1,
   "metadata": {
    "id": "oE_1yQq64t5y"
   },
   "outputs": [
    {
     "name": "stdout",
     "output_type": "stream",
     "text": [
      "Collecting matplotlib\n",
      "  Downloading matplotlib-3.4.2-cp38-cp38-win_amd64.whl (7.1 MB)\n",
      "Collecting pillow>=6.2.0\n",
      "  Downloading Pillow-8.3.1-cp38-cp38-win_amd64.whl (3.1 MB)\n",
      "Collecting cycler>=0.10\n",
      "  Downloading cycler-0.10.0-py2.py3-none-any.whl (6.5 kB)\n",
      "Requirement already satisfied: numpy>=1.16 in c:\\users\\machu\\appdata\\local\\programs\\python\\python38\\lib\\site-packages (from matplotlib) (1.21.0)\n",
      "Requirement already satisfied: python-dateutil>=2.7 in c:\\users\\machu\\appdata\\local\\programs\\python\\python38\\lib\\site-packages (from matplotlib) (2.8.1)\n",
      "Requirement already satisfied: pyparsing>=2.2.1 in c:\\users\\machu\\appdata\\local\\programs\\python\\python38\\lib\\site-packages (from matplotlib) (2.4.7)\n",
      "Collecting kiwisolver>=1.0.1\n",
      "  Downloading kiwisolver-1.3.1-cp38-cp38-win_amd64.whl (51 kB)\n",
      "Requirement already satisfied: six in c:\\users\\machu\\appdata\\local\\programs\\python\\python38\\lib\\site-packages (from cycler>=0.10->matplotlib) (1.16.0)\n",
      "Installing collected packages: pillow, kiwisolver, cycler, matplotlib\n",
      "Successfully installed cycler-0.10.0 kiwisolver-1.3.1 matplotlib-3.4.2 pillow-8.3.1\n",
      "Collecting seaborn\n",
      "  Downloading seaborn-0.11.1-py3-none-any.whl (285 kB)\n",
      "Requirement already satisfied: pandas>=0.23 in c:\\users\\machu\\appdata\\local\\programs\\python\\python38\\lib\\site-packages (from seaborn) (1.3.0)\n",
      "Requirement already satisfied: matplotlib>=2.2 in c:\\users\\machu\\appdata\\local\\programs\\python\\python38\\lib\\site-packages (from seaborn) (3.4.2)\n",
      "Collecting scipy>=1.0\n",
      "  Downloading scipy-1.7.0-cp38-cp38-win_amd64.whl (33.7 MB)\n",
      "Requirement already satisfied: numpy>=1.15 in c:\\users\\machu\\appdata\\local\\programs\\python\\python38\\lib\\site-packages (from seaborn) (1.21.0)\n",
      "Requirement already satisfied: pillow>=6.2.0 in c:\\users\\machu\\appdata\\local\\programs\\python\\python38\\lib\\site-packages (from matplotlib>=2.2->seaborn) (8.3.1)\n",
      "Requirement already satisfied: cycler>=0.10 in c:\\users\\machu\\appdata\\local\\programs\\python\\python38\\lib\\site-packages (from matplotlib>=2.2->seaborn) (0.10.0)\n",
      "Requirement already satisfied: pyparsing>=2.2.1 in c:\\users\\machu\\appdata\\local\\programs\\python\\python38\\lib\\site-packages (from matplotlib>=2.2->seaborn) (2.4.7)\n",
      "Requirement already satisfied: kiwisolver>=1.0.1 in c:\\users\\machu\\appdata\\local\\programs\\python\\python38\\lib\\site-packages (from matplotlib>=2.2->seaborn) (1.3.1)\n",
      "Requirement already satisfied: python-dateutil>=2.7 in c:\\users\\machu\\appdata\\local\\programs\\python\\python38\\lib\\site-packages (from matplotlib>=2.2->seaborn) (2.8.1)\n",
      "Requirement already satisfied: six in c:\\users\\machu\\appdata\\local\\programs\\python\\python38\\lib\\site-packages (from cycler>=0.10->matplotlib>=2.2->seaborn) (1.16.0)\n",
      "Requirement already satisfied: pytz>=2017.3 in c:\\users\\machu\\appdata\\local\\programs\\python\\python38\\lib\\site-packages (from pandas>=0.23->seaborn) (2021.1)\n",
      "Installing collected packages: scipy, seaborn\n",
      "Successfully installed scipy-1.7.0 seaborn-0.11.1\n"
     ]
    },
    {
     "name": "stderr",
     "output_type": "stream",
     "text": [
      "Matplotlib is building the font cache; this may take a moment.\n"
     ]
    },
    {
     "ename": "ModuleNotFoundError",
     "evalue": "No module named 'sklearn'",
     "output_type": "error",
     "traceback": [
      "\u001b[1;31m---------------------------------------------------------------------------\u001b[0m",
      "\u001b[1;31mModuleNotFoundError\u001b[0m                       Traceback (most recent call last)",
      "\u001b[1;32m~\\AppData\\Local\\Temp/ipykernel_9328/1786154207.py\u001b[0m in \u001b[0;36m<module>\u001b[1;34m\u001b[0m\n\u001b[0;32m     36\u001b[0m \u001b[1;32mfrom\u001b[0m \u001b[0mscipy\u001b[0m\u001b[1;33m.\u001b[0m\u001b[0mstats\u001b[0m \u001b[1;32mimport\u001b[0m \u001b[0mt\u001b[0m\u001b[1;33m\u001b[0m\u001b[1;33m\u001b[0m\u001b[0m\n\u001b[0;32m     37\u001b[0m \u001b[1;33m\u001b[0m\u001b[0m\n\u001b[1;32m---> 38\u001b[1;33m \u001b[1;32mfrom\u001b[0m \u001b[0msklearn\u001b[0m\u001b[1;33m.\u001b[0m\u001b[0mpreprocessing\u001b[0m \u001b[1;32mimport\u001b[0m \u001b[0mLabelEncoder\u001b[0m\u001b[1;33m\u001b[0m\u001b[1;33m\u001b[0m\u001b[0m\n\u001b[0m\u001b[0;32m     39\u001b[0m \u001b[1;33m\u001b[0m\u001b[0m\n",
      "\u001b[1;31mModuleNotFoundError\u001b[0m: No module named 'sklearn'"
     ]
    }
   ],
   "source": [
    "# import pandas\n",
    "!pip install matplotlib\n",
    "!pip install seaborn\n",
    "import pandas as pd\n",
    "\n",
    "# import numpy\n",
    "\n",
    "import numpy as np\n",
    "\n",
    "# import datetime\n",
    "\n",
    "import datetime\n",
    "\n",
    "# import seaborn\n",
    "\n",
    "import seaborn as sns\n",
    "\n",
    "# import matplotlib\n",
    "\n",
    "import matplotlib.pyplot as plt\n",
    "%matplotlib notebook\n",
    "\n",
    "\n",
    "\n",
    "# immport scipy\n",
    "\n",
    "import scipy.stats as stats\n",
    "\n",
    "#import math\n",
    "\n",
    "from math import sqrt\n",
    "\n",
    "#import ttest\n",
    "from scipy.stats import ttest_ind\n",
    "\n",
    "from scipy.stats import t\n",
    "\n",
    "from sklearn.preprocessing import LabelEncoder\n",
    "\n"
   ]
  },
  {
   "cell_type": "markdown",
   "metadata": {
    "id": "XLi659rt9FrO"
   },
   "source": [
    "# **3. LOADING OUR DATASETS**"
   ]
  },
  {
   "cell_type": "code",
   "execution_count": null,
   "metadata": {
    "id": "8_GccHdY9M48"
   },
   "outputs": [],
   "source": [
    "#loading our dataset\n",
    "url = '/content/Us_shootings.csv'\n",
    "df = pd.read_csv(url)\n"
   ]
  },
  {
   "cell_type": "code",
   "execution_count": null,
   "metadata": {
    "colab": {
     "base_uri": "https://localhost:8080/",
     "height": 307
    },
    "id": "UrUATHi4Ak3i",
    "outputId": "3369a7b2-2b06-4d2d-b3a4-fd2b78081010"
   },
   "outputs": [],
   "source": [
    "#previewing the top\n",
    "df.head()"
   ]
  },
  {
   "cell_type": "code",
   "execution_count": null,
   "metadata": {
    "colab": {
     "base_uri": "https://localhost:8080/",
     "height": 307
    },
    "id": "nVgu1fpiAss9",
    "outputId": "5cebfdb1-0414-45de-b2f3-f7998b487f73"
   },
   "outputs": [],
   "source": [
    "#previewing the bottom\n",
    "df.tail()"
   ]
  },
  {
   "cell_type": "code",
   "execution_count": null,
   "metadata": {
    "colab": {
     "base_uri": "https://localhost:8080/",
     "height": 324
    },
    "id": "0n2Z_MmLAvbq",
    "outputId": "aef98b2f-a310-4585-894a-d73991bd7c4a"
   },
   "outputs": [],
   "source": [
    "#previewing random sample of 5 records\n",
    "df.sample(5)"
   ]
  },
  {
   "cell_type": "markdown",
   "metadata": {
    "id": "kjqX9tSDTF83"
   },
   "source": [
    "# **4. GETTING MORE INFORMATION ABOUT OUR DATASET**. "
   ]
  },
  {
   "cell_type": "code",
   "execution_count": null,
   "metadata": {
    "colab": {
     "base_uri": "https://localhost:8080/"
    },
    "id": "r4-Qy_iFBFri",
    "outputId": "fb1e06ff-7e55-44ad-c173-f5720fbf31b4"
   },
   "outputs": [],
   "source": [
    "#getting the shape of our dataset\n",
    "df.shape"
   ]
  },
  {
   "cell_type": "code",
   "execution_count": null,
   "metadata": {
    "colab": {
     "base_uri": "https://localhost:8080/"
    },
    "id": "cJG4EkL29p8v",
    "outputId": "40d53d5e-ed30-42d5-e2f3-44005fd4aac2"
   },
   "outputs": [],
   "source": [
    "#getting information about our dataset\n",
    "df.info()"
   ]
  },
  {
   "cell_type": "code",
   "execution_count": null,
   "metadata": {
    "colab": {
     "base_uri": "https://localhost:8080/",
     "height": 295
    },
    "id": "ccaGxpyAZUdd",
    "outputId": "6ce1ddc7-bc21-4830-b2ac-c80fdc20810d"
   },
   "outputs": [],
   "source": [
    "#finding out parameters of our dataset\n",
    "df.describe()"
   ]
  },
  {
   "cell_type": "code",
   "execution_count": null,
   "metadata": {
    "colab": {
     "base_uri": "https://localhost:8080/"
    },
    "id": "lMyW2S5gZmI8",
    "outputId": "d8738826-d48f-465d-a565-9a0e75f172ec"
   },
   "outputs": [],
   "source": [
    "#find out unique values in each column\n",
    "df.nunique()"
   ]
  },
  {
   "cell_type": "markdown",
   "metadata": {
    "id": "aQEWI32mHoA0"
   },
   "source": [
    "# **5. CLEANING THE DATA**"
   ]
  },
  {
   "cell_type": "code",
   "execution_count": null,
   "metadata": {
    "id": "tuIRzQ8XlXx5"
   },
   "outputs": [],
   "source": [
    "#redifining our columns\n",
    "\n",
    "df.columns = df.columns.str.strip().str.lower().str.replace(' ', '_').str.replace('(', '').str.replace(')', '')"
   ]
  },
  {
   "cell_type": "code",
   "execution_count": null,
   "metadata": {
    "colab": {
     "base_uri": "https://localhost:8080/"
    },
    "id": "jHRoCDSnCFYr",
    "outputId": "017ba6ce-8ab2-4fc9-acf6-65d9b8acc3bb"
   },
   "outputs": [],
   "source": [
    "#Checking our renaming result\n",
    "df.columns"
   ]
  },
  {
   "cell_type": "code",
   "execution_count": null,
   "metadata": {
    "colab": {
     "base_uri": "https://localhost:8080/"
    },
    "id": "3UOs6mFAFl3F",
    "outputId": "9271a070-8e61-4900-ea6f-ef362ea90d3d"
   },
   "outputs": [],
   "source": [
    "#finding out how many duplicate rows are in our dataset\n",
    "\n",
    "len(df)-len(df.drop_duplicates())\n",
    "\n",
    "#there are no duplicates"
   ]
  },
  {
   "cell_type": "code",
   "execution_count": null,
   "metadata": {
    "colab": {
     "base_uri": "https://localhost:8080/"
    },
    "id": "twflRHTnelID",
    "outputId": "4d4a2a56-b929-4083-bc04-00004cae5323"
   },
   "outputs": [],
   "source": [
    "#check for null values if any\n",
    "df.isnull().sum()\n",
    "\n",
    "#there are no null values in our dataset"
   ]
  },
  {
   "cell_type": "code",
   "execution_count": null,
   "metadata": {
    "colab": {
     "base_uri": "https://localhost:8080/",
     "height": 70
    },
    "id": "qKgwUyV0fIU_",
    "outputId": "376e8187-755e-4232-eed0-21c9ed84781b"
   },
   "outputs": [],
   "source": [
    "# Checking for Outliers & Anomalies in the age column as it is our only numerical column\n",
    "sns.boxplot(df['age'])\n",
    "  \n",
    "plt.show()"
   ]
  },
  {
   "cell_type": "markdown",
   "metadata": {
    "id": "c5InP62fGyzG"
   },
   "source": [
    "We decided to keep our outliers because we saw that the data will be useful in our analysis when analysing about age."
   ]
  },
  {
   "cell_type": "markdown",
   "metadata": {
    "id": "67CHlpUkJx8h"
   },
   "source": [
    "**Anomilies**"
   ]
  },
  {
   "cell_type": "code",
   "execution_count": null,
   "metadata": {
    "colab": {
     "base_uri": "https://localhost:8080/"
    },
    "id": "IbTryzPT4ULI",
    "outputId": "8eb84e4b-7de7-4f5b-8017-1eacfb02ceb9"
   },
   "outputs": [],
   "source": [
    "#Selecting the categorical columns\n",
    "cat_cols = df.select_dtypes(include ='object').columns.to_list()\n",
    "cat_cols\n",
    "\n",
    "\n",
    "# Check for unique values in each column\n",
    "for col in cat_cols:\n",
    "  print(f'{col} column unique values: \\n')\n",
    "  print(df[col].unique(), end='\\n')\n",
    "  print('...........')\n",
    "  print('\\n')"
   ]
  },
  {
   "cell_type": "code",
   "execution_count": null,
   "metadata": {
    "id": "8G6YgFuH9ERj"
   },
   "outputs": [],
   "source": [
    "#convert date column to datetime\n",
    "\n",
    "df['date'] = pd.to_datetime(df['date'])"
   ]
  },
  {
   "cell_type": "code",
   "execution_count": null,
   "metadata": {
    "colab": {
     "base_uri": "https://localhost:8080/"
    },
    "id": "0UgVpnDx9mdT",
    "outputId": "5fd69076-47ac-4765-9ebd-25d1820fd227"
   },
   "outputs": [],
   "source": [
    "#Check if data was corrected\n",
    "df.info()"
   ]
  },
  {
   "cell_type": "markdown",
   "metadata": {
    "id": "ocBjOS7_giq-"
   },
   "source": [
    "from the output our data seems clean, no null values and no duplicates, no outliers and we have standard names for all columns"
   ]
  },
  {
   "cell_type": "markdown",
   "metadata": {
    "id": "APXXOnfpk1LQ"
   },
   "source": [
    "# **6. EXPORT CLEAN DATA**"
   ]
  },
  {
   "cell_type": "code",
   "execution_count": null,
   "metadata": {
    "id": "w6HxA_3QmYP8"
   },
   "outputs": [],
   "source": [
    "#saving the cleaned dataset\n",
    "x = df.to_csv('us_police_shooting.csv')\n",
    "\n",
    "#df = df_sample.to_excel('name.xlsx')\n"
   ]
  },
  {
   "cell_type": "code",
   "execution_count": null,
   "metadata": {
    "id": "dFmg2eV_-y49"
   },
   "outputs": [],
   "source": [
    "#loading the saved clean dataset\n",
    "df = pd.read_csv('/content/us_police_shooting.csv')\n",
    "# df = df.set_index('id')\n",
    "df.drop(['Unnamed: 0'],axis=1,inplace = True)\n"
   ]
  },
  {
   "cell_type": "code",
   "execution_count": null,
   "metadata": {
    "id": "FAKE7tmaEd8D"
   },
   "outputs": [],
   "source": []
  },
  {
   "cell_type": "markdown",
   "metadata": {
    "id": "rF2ABPsHUtbZ"
   },
   "source": [
    "# **7. Exploratory Analysis**"
   ]
  },
  {
   "cell_type": "markdown",
   "metadata": {
    "id": "D8B80V2uISVI"
   },
   "source": [
    "## a) Univariate Analysis"
   ]
  },
  {
   "cell_type": "markdown",
   "metadata": {
    "id": "W5ujhTq5ZmUa"
   },
   "source": [
    "### ***Measures of Central Tendency***"
   ]
  },
  {
   "cell_type": "code",
   "execution_count": null,
   "metadata": {
    "colab": {
     "base_uri": "https://localhost:8080/",
     "height": 0
    },
    "id": "vXtZLkr_LFO5",
    "outputId": "0eaac371-b88b-481d-8194-d1a6ce5262fd"
   },
   "outputs": [],
   "source": [
    "#getting summary\n",
    "df.describe(include='all')"
   ]
  },
  {
   "cell_type": "code",
   "execution_count": null,
   "metadata": {
    "colab": {
     "base_uri": "https://localhost:8080/",
     "height": 0
    },
    "id": "5nnRToniXGDK",
    "outputId": "5e678c51-0b35-4c7f-e916-b22fbd8f5a39"
   },
   "outputs": [],
   "source": [
    "# Mode\n",
    "# Calculating mode across different columns\n",
    "\n",
    "df[['id', 'name', 'date', 'manner_of_death', 'armed', 'age', 'gender',\n",
    "       'race', 'city', 'state', 'signs_of_mental_illness', 'threat_level',\n",
    "       'flee', 'body_camera', 'arms_category']].mode().head(1)"
   ]
  },
  {
   "cell_type": "code",
   "execution_count": null,
   "metadata": {
    "colab": {
     "base_uri": "https://localhost:8080/",
     "height": 0
    },
    "id": "o-mbgUa40DBp",
    "outputId": "3050ad01-df0e-41ea-a392-5d7945774ddf"
   },
   "outputs": [],
   "source": [
    "modedf =pd.DataFrame()\n",
    "modedf\n",
    "\n",
    "data = {'Criteria': ['id', 'name', 'date', 'manner_of_death', 'armed', 'age', 'gender',\n",
    "       'race', 'city', 'state', 'signs_of_mental_illness', 'threat_level',\n",
    "       'flee', 'body_camera', 'arms_category'], \n",
    "       'The most appearing record': ['3','TK','2018-01-06','shot','gun','25','Male','White','Los Angelos','CA','False','attack','Not Fleeing','False','Guns']} \n",
    "modedf =pd.DataFrame(data)\n",
    "modedf"
   ]
  },
  {
   "cell_type": "code",
   "execution_count": null,
   "metadata": {
    "colab": {
     "base_uri": "https://localhost:8080/"
    },
    "id": "yVIQtLJmuhtV",
    "outputId": "4a20010e-ac3c-490e-8b24-85593fc35e31"
   },
   "outputs": [],
   "source": [
    "# Mean\n",
    "# Calculating the mean for our numerical columns\n",
    "df[['age']].mean(axis=0)"
   ]
  },
  {
   "cell_type": "markdown",
   "metadata": {
    "id": "vfxxOlpZvYiP"
   },
   "source": [
    "> The average age of people who were shot is   37"
   ]
  },
  {
   "cell_type": "code",
   "execution_count": null,
   "metadata": {
    "colab": {
     "base_uri": "https://localhost:8080/"
    },
    "id": "hWZCYQsquovL",
    "outputId": "7e1fa0d9-518f-40bd-d27b-99d082ba5777"
   },
   "outputs": [],
   "source": [
    "# Median\n",
    "# Calculating the median for our numerical columns\n",
    "\n",
    "df[['age']].median(axis=0)"
   ]
  },
  {
   "cell_type": "markdown",
   "metadata": {
    "id": "lm_KIYIKvxE7"
   },
   "source": [
    "> The median age of people who were shot is 35"
   ]
  },
  {
   "cell_type": "markdown",
   "metadata": {
    "id": "9O-9MITedliL"
   },
   "source": [
    "### ***Measures of Dispersion***"
   ]
  },
  {
   "cell_type": "code",
   "execution_count": null,
   "metadata": {
    "colab": {
     "base_uri": "https://localhost:8080/"
    },
    "id": "skPW_H46wS7c",
    "outputId": "34b73a3c-22bb-4214-b06d-c48bd0c5e5f5"
   },
   "outputs": [],
   "source": [
    "# Standard Deviation & Variance\n",
    "# We will now calculate the standard deviation and variance to check the spread of our data from the mean\n",
    "range1 = df['age'].max() - df['age'].min()\n",
    "\n",
    "std = df['age'].std()\n",
    "var = df['age'].var()\n",
    "print('Range: \"Age\" ', range1) \n",
    "print('Std deviation:', std)\n",
    "print('Variance:', var)"
   ]
  },
  {
   "cell_type": "markdown",
   "metadata": {
    "id": "b1YSJtTvcQrr"
   },
   "source": [
    "column has a high standard deviation and variance, showing that they're both spread over a wide range as evidenced by the ranges"
   ]
  },
  {
   "cell_type": "code",
   "execution_count": null,
   "metadata": {
    "colab": {
     "base_uri": "https://localhost:8080/"
    },
    "id": "RAaNLhEDuseu",
    "outputId": "d651709b-72c6-460d-8355-cfb131f52dbd"
   },
   "outputs": [],
   "source": [
    "# Skewness\n",
    "# We will now calculate the skewness to check the assymetry of the distribution\n",
    "df['age'].skew()"
   ]
  },
  {
   "cell_type": "markdown",
   "metadata": {
    "id": "c5f3NMXawARn"
   },
   "source": [
    "> Our age column is positively skewed, indicating that the tail is bigger on the left side"
   ]
  },
  {
   "cell_type": "code",
   "execution_count": null,
   "metadata": {
    "colab": {
     "base_uri": "https://localhost:8080/"
    },
    "id": "hbJjD44PutyA",
    "outputId": "bd41b355-03fb-4a91-e4f3-51f1601ed030"
   },
   "outputs": [],
   "source": [
    "# Kurtosis\n",
    "# We will now calculate the kurtosis to check the tail of our distribution\n",
    "df['age'].kurt()"
   ]
  },
  {
   "cell_type": "markdown",
   "metadata": {
    "id": "b--AXvx57ijj"
   },
   "source": [
    "Low kurtosis exhibit tail data that are generally less extreme than the tails of the normal distribution. This indicates that we have a platykurtic distribution\n"
   ]
  },
  {
   "cell_type": "code",
   "execution_count": null,
   "metadata": {
    "colab": {
     "base_uri": "https://localhost:8080/"
    },
    "id": "LVvV5IMLL6Hs",
    "outputId": "66463cc5-7670-401e-cffd-f44f7c996a92"
   },
   "outputs": [],
   "source": [
    "print('Skewness:',df['age'].skew())\n",
    "print(\"Kurtosis:\",df['age'].kurt())\n",
    "plt.hist(df['age'], bins=5)\n",
    "plt.title('Histogram of Age distibution')\n",
    "plt.xlabel('Age')\n",
    "plt.ylabel('Frequency')\n",
    "plt.show()"
   ]
  },
  {
   "cell_type": "code",
   "execution_count": null,
   "metadata": {
    "id": "VXK6xuj1gW1R"
   },
   "outputs": [],
   "source": []
  },
  {
   "cell_type": "code",
   "execution_count": null,
   "metadata": {
    "id": "6nI4rElwYuPD"
   },
   "outputs": [],
   "source": [
    "# Creating a subset with first strata sample data\n",
    "\n",
    "#one_sample =  df_sample.loc[df2_sample['column name']==row value] \n",
    "\n",
    "#Creating a subset with second strata sample data\n",
    "#two_sample =  df_sample.loc[df2_sample['column name']==row value] \n",
    "\n",
    "#one_sample.head()\n",
    "#two_sample.head()"
   ]
  },
  {
   "cell_type": "code",
   "execution_count": null,
   "metadata": {
    "id": "S4ORfXDQZBS0"
   },
   "outputs": [],
   "source": [
    "#df_sample.columns"
   ]
  },
  {
   "cell_type": "code",
   "execution_count": null,
   "metadata": {
    "id": "dYjyO6lWLD-m"
   },
   "outputs": [],
   "source": [
    "# Creating a stratified random sample by grouping the dataset by variable a/ variable b\n",
    "# Then extracting sample units from each group\n",
    "# The sample size is calculated with 0.05 as the margin of error, and 95% as the confidence level \n",
    "\n",
    "#df_sample = df.groupby('column name', group_keys=False).apply(lambda x : x.sample(replace='False', frac=((4895/(1+4895*(0.05**2)))/10024)))\n",
    "\n",
    "# Print the number of sample units from each strata\n",
    "#print(df_sample['column name'].value_counts())\n",
    "\n",
    "# Display some of the sample data \n",
    "#df_sample"
   ]
  },
  {
   "cell_type": "markdown",
   "metadata": {
    "id": "IKVUsF8P-CKq"
   },
   "source": [
    "##Univariate Plots"
   ]
  },
  {
   "cell_type": "code",
   "execution_count": null,
   "metadata": {
    "colab": {
     "base_uri": "https://localhost:8080/"
    },
    "id": "aw0-sbtQObgg",
    "outputId": "63e7c2f0-3118-436c-f19c-5b7c6098711b"
   },
   "outputs": [],
   "source": [
    "df.columns"
   ]
  },
  {
   "cell_type": "code",
   "execution_count": null,
   "metadata": {
    "id": "irnzHJN9NRgV"
   },
   "outputs": [],
   "source": [
    "# col=['armed',\n",
    "#        'gender', 'race', 'city', 'signs_of_mental_illness',\n",
    "#        'threat_level', 'flee', 'body_camera', 'arms_category']\n",
    "# fig, ax = plt.subplots(len(col), figsize=(5,10))\n",
    "# for i, col_val in enumerate(col()):\n",
    "#     sns.distplot(df[col_val], ax=ax[i], kde=True, color='blue')\n",
    "#     ax[i].set_title('Box plot - {}'.format(col_val))\n",
    "#     ax[i].set_xlabel(col_val)\n",
    "# plt.show()"
   ]
  },
  {
   "cell_type": "code",
   "execution_count": null,
   "metadata": {
    "colab": {
     "base_uri": "https://localhost:8080/"
    },
    "id": "u9ziz_z19NfD",
    "outputId": "6dd74728-9bb1-46a5-98c1-724190d1388a"
   },
   "outputs": [],
   "source": [
    "#Visualization of race  \n",
    "df.groupby('race')['race'].count().sort_values(ascending=True).plot(title = 'Plot of races', kind = 'barh')"
   ]
  },
  {
   "cell_type": "code",
   "execution_count": null,
   "metadata": {
    "id": "b9kUU6MA_NyK"
   },
   "outputs": [],
   "source": [
    "#Visualization of manner of death\n",
    "explode=(0,0.3)\n",
    "df.groupby('manner_of_death').manner_of_death.count().plot(title = 'Comparison of manner of death', \n",
    "                                                                  kind = 'pie',autopct='%1.1f%%', explode=explode);"
   ]
  },
  {
   "cell_type": "code",
   "execution_count": null,
   "metadata": {
    "id": "IS0L446GSwE6"
   },
   "outputs": [],
   "source": [
    "#visulization of armed\n",
    "df['armed'].value_counts()\n",
    "df.groupby('armed')['armed'].count().sort_values(ascending=False).head().plot(title = 'Arms carried by suspect', \n",
    "                                                                  kind = 'barh');"
   ]
  },
  {
   "cell_type": "code",
   "execution_count": null,
   "metadata": {
    "colab": {
     "base_uri": "https://localhost:8080/"
    },
    "id": "6432f_mO_nEg",
    "outputId": "d4f6ca67-94f4-495f-8b4e-3d3816b6c8d5"
   },
   "outputs": [],
   "source": [
    "#gender distibution\n",
    "df.groupby('gender').gender.count().plot(title = 'Distribution of the genders of victims', kind = 'pie',autopct='%1.1f%%')"
   ]
  },
  {
   "cell_type": "code",
   "execution_count": null,
   "metadata": {
    "colab": {
     "base_uri": "https://localhost:8080/"
    },
    "id": "ziiT7ny8_1T8",
    "outputId": "8bbf4992-9857-4736-dcb3-cf19e3b2681b"
   },
   "outputs": [],
   "source": [
    "#Plot of mental status\n",
    "df.groupby('signs_of_mental_illness').signs_of_mental_illness.count().plot(title = 'Did victims seem mentally ill?', kind = 'bar')"
   ]
  },
  {
   "cell_type": "code",
   "execution_count": null,
   "metadata": {
    "colab": {
     "base_uri": "https://localhost:8080/"
    },
    "id": "X9YskqidAErC",
    "outputId": "fa8bd789-408d-4a23-fc52-8230b41c9d8f"
   },
   "outputs": [],
   "source": [
    "#plotting threat level bar\n",
    "df.groupby('threat_level').threat_level.count().plot(title = 'What level of threat did the victims present?', kind = 'bar')"
   ]
  },
  {
   "cell_type": "code",
   "execution_count": null,
   "metadata": {
    "colab": {
     "base_uri": "https://localhost:8080/"
    },
    "id": "MrNjDJviAU61",
    "outputId": "5abd28b9-12d5-462d-f408-a981b9026aee"
   },
   "outputs": [],
   "source": [
    "\n",
    "#Visulazation of flee\n",
    "df.groupby('flee').flee.count().sort_values(ascending=False).plot(title = 'What distribution of the victims attempted to flee',\n",
    "                                                                  kind = 'bar', )\n",
    "plt.xticks(rotation=90)"
   ]
  },
  {
   "cell_type": "code",
   "execution_count": null,
   "metadata": {
    "colab": {
     "base_uri": "https://localhost:8080/"
    },
    "id": "yxALpS8LAihd",
    "outputId": "c1913b29-4e33-4f03-a623-565236c18fcd"
   },
   "outputs": [],
   "source": [
    "#visualizing the body camera information \n",
    "df.groupby('body_camera').body_camera.count().plot(title = 'What distribution of the incidents did police have body cams on?', kind = 'bar')"
   ]
  },
  {
   "cell_type": "code",
   "execution_count": null,
   "metadata": {
    "id": "_eE9Wak4_Rrg"
   },
   "outputs": [],
   "source": []
  },
  {
   "cell_type": "markdown",
   "metadata": {
    "id": "XEIDN19M_SIW"
   },
   "source": [
    "##Bivariate Plots"
   ]
  },
  {
   "cell_type": "code",
   "execution_count": null,
   "metadata": {
    "colab": {
     "base_uri": "https://localhost:8080/",
     "height": 0
    },
    "id": "LaXnbpLX_SIX",
    "outputId": "f6c71ec9-50fb-4513-c513-ae9c15de41bc"
   },
   "outputs": [],
   "source": [
    "#Calculating the correlation\n",
    "corr = df.corr()\n",
    "plt.figure()\n",
    "sns.heatmap(corr, xticklabels=corr.columns, yticklabels=corr.columns, annot=True)\n",
    "plt.title('Heatmap showing Correlation of the Numerical Columns', fontsize = 20)\n",
    "plt.show()"
   ]
  },
  {
   "cell_type": "code",
   "execution_count": null,
   "metadata": {
    "colab": {
     "base_uri": "https://localhost:8080/",
     "height": 0
    },
    "id": "NTyJALn8_SIX",
    "outputId": "6902d3f8-e3fe-44f9-fc3f-2d00b706a659"
   },
   "outputs": [],
   "source": [
    "#Plotting our bar graph \n",
    "df.groupby(['race','manner_of_death']).id.count().sort_values(ascending=False).unstack().plot(kind='bar',figsize=(12,8),stacked = True)\n",
    "\n",
    "# labels and title\n",
    "plt.title('Comparison of the manner of death depending on the race of victim',fontsize=16)\n",
    "plt.xlabel('What is the race of victim',fontsize=14)\n",
    "plt.ylabel('Number',fontsize=14)\n",
    "plt.legend(fontsize=10)"
   ]
  },
  {
   "cell_type": "code",
   "execution_count": null,
   "metadata": {
    "colab": {
     "base_uri": "https://localhost:8080/",
     "height": 0
    },
    "id": "NGDYMyGk_SIY",
    "outputId": "29640e06-2cb2-4072-e02f-d32ccd610d83"
   },
   "outputs": [],
   "source": [
    "#Plotting our bar graph \n",
    "df.groupby(['manner_of_death','signs_of_mental_illness']).id.count().unstack().plot(kind='bar',figsize=(12,8),stacked = True)\n",
    "\n",
    "# labels and title\n",
    "plt.title('Comparison of the manner of death depending on signs of mental illness',fontsize=16)\n",
    "plt.xlabel('Were there any signs of mental illness',fontsize=14)\n",
    "plt.ylabel('Number',fontsize=14)\n",
    "plt.legend(fontsize=10)"
   ]
  },
  {
   "cell_type": "code",
   "execution_count": null,
   "metadata": {
    "colab": {
     "base_uri": "https://localhost:8080/",
     "height": 0
    },
    "id": "ivTJP8c5_SIY",
    "outputId": "4fd7ed28-b26a-44f8-f78d-43c597329e7f"
   },
   "outputs": [],
   "source": [
    "#Plotting our bar graph \n",
    "df.groupby(['manner_of_death','threat_level']).id.count().unstack().plot(kind='bar',figsize=(12,8))\n",
    "\n",
    "# labels and title\n",
    "plt.title('Comparison of the manner of death depending on level of threat',fontsize=16)\n",
    "plt.xlabel('Level of threat',fontsize=14)\n",
    "plt.ylabel('Number',fontsize=14)\n",
    "plt.legend(fontsize=10)"
   ]
  },
  {
   "cell_type": "code",
   "execution_count": null,
   "metadata": {
    "colab": {
     "base_uri": "https://localhost:8080/",
     "height": 0
    },
    "id": "jO904hGp_SIZ",
    "outputId": "8d1f321d-2f8b-4b33-8eca-8011d91b2489"
   },
   "outputs": [],
   "source": [
    "#Plotting our bar graph \n",
    "df.groupby(['manner_of_death','flee']).id.count().unstack().plot(kind='bar',figsize=(12,8))\n",
    "\n",
    "# labels and title\n",
    "plt.title('Comparison of whether fleeing of the suspect affected the manner of death',fontsize=16)\n",
    "plt.xlabel('How did the suspect flee',fontsize=14)\n",
    "plt.ylabel('Number',fontsize=14)\n",
    "plt.legend(fontsize=10)"
   ]
  },
  {
   "cell_type": "code",
   "execution_count": null,
   "metadata": {
    "colab": {
     "base_uri": "https://localhost:8080/",
     "height": 0
    },
    "id": "ymrMV8h1_SIa",
    "outputId": "a4356ac7-ebc1-493d-fe79-5c5bf2644330"
   },
   "outputs": [],
   "source": [
    "#Plotting our bar graph \n",
    "df.groupby(['race','gender']).id.count().sort_values(ascending=False).unstack().plot(kind='bar',figsize=(12,8), stacked = True) \n",
    "\n",
    "# labels and title\n",
    "plt.title('Correlaton between the victims gender to their race',fontsize=16)\n",
    "plt.xlabel('Race of victim',fontsize=14)\n",
    "plt.ylabel('Number',fontsize=14)\n",
    "plt.legend(fontsize=10)"
   ]
  },
  {
   "cell_type": "code",
   "execution_count": null,
   "metadata": {
    "colab": {
     "base_uri": "https://localhost:8080/",
     "height": 0
    },
    "id": "QUdkRCuh_SIb",
    "outputId": "0ad37d94-c8a0-45ea-e605-1183af3c13fc"
   },
   "outputs": [],
   "source": [
    "#Plotting our bar graph \n",
    "df.groupby(['gender','signs_of_mental_illness']).id.count().unstack().plot(kind='bar',figsize=(12,8),stacked=True) \n",
    "\n",
    "# labels and title\n",
    "plt.title('Correlaton between the victims gender to showing signs of mental illnesses',fontsize=16)\n",
    "plt.xlabel('Did victim show signs of mental illnesses',fontsize=14)\n",
    "plt.ylabel('Number',fontsize=14)\n",
    "plt.legend(fontsize=10)"
   ]
  },
  {
   "cell_type": "code",
   "execution_count": null,
   "metadata": {
    "colab": {
     "base_uri": "https://localhost:8080/",
     "height": 0
    },
    "id": "Sj6N4dbc_SIb",
    "outputId": "7d13b5c8-90ce-4359-e975-8a89932c31bc"
   },
   "outputs": [],
   "source": [
    "#Plotting our bar graph \n",
    "df.groupby(['gender','threat_level']).id.count().unstack().plot(kind='bar',figsize=(12,8), stacked = True) \n",
    "\n",
    "# labels and title\n",
    "plt.title('Correlaton between the victims gender to threat level observed',fontsize=16)\n",
    "# plt.xticks(rotation = 60)\n",
    "plt.xlabel('Did victim act in a threatening manner',fontsize=14)\n",
    "plt.ylabel('Number',fontsize=14)\n",
    "plt.legend(fontsize=10)"
   ]
  },
  {
   "cell_type": "code",
   "execution_count": null,
   "metadata": {
    "colab": {
     "base_uri": "https://localhost:8080/",
     "height": 0
    },
    "id": "bzg9vHcp_SIc",
    "outputId": "a1685c2e-700f-4b3c-bb36-97bc39f701bd"
   },
   "outputs": [],
   "source": [
    "#Plotting our bar graph \n",
    "df.groupby(['flee','gender']).id.count().unstack().plot(kind='bar',figsize=(12,8), stacked = True) \n",
    "\n",
    "# labels and title\n",
    "plt.title('Correlaton between the victims gender to their attempt to flee',fontsize=16)\n",
    "plt.xlabel('Did victim attempt to flee? and if they did how?',fontsize=14)\n",
    "plt.ylabel('Number',fontsize=14)\n",
    "plt.legend(fontsize=10)"
   ]
  },
  {
   "cell_type": "code",
   "execution_count": null,
   "metadata": {
    "colab": {
     "base_uri": "https://localhost:8080/",
     "height": 0
    },
    "id": "t2fuKIXD_SIc",
    "outputId": "3c5d7be3-ff64-4907-a317-5ef2c8ca112a"
   },
   "outputs": [],
   "source": [
    "#Plotting our bar graph \n",
    "df.groupby(['gender','body_camera']).id.count().unstack().plot(kind='bar',figsize=(12,8)) \n",
    "\n",
    "# labels and title\n",
    "plt.title('Correlaton between the victims gender and the police body camera being used',fontsize=16)\n",
    "plt.xlabel('Gender',fontsize=14)\n",
    "plt.ylabel('Number',fontsize=14)\n",
    "plt.legend(fontsize=10)"
   ]
  },
  {
   "cell_type": "code",
   "execution_count": null,
   "metadata": {
    "colab": {
     "base_uri": "https://localhost:8080/",
     "height": 0
    },
    "id": "ng52hhLs_SIc",
    "outputId": "fdaf9128-cd2b-41b5-a56d-5fde6aab9ef2"
   },
   "outputs": [],
   "source": [
    "#Plotting our bar graph \n",
    "df.groupby(['gender','arms_category']).id.count().head(3).unstack().plot(kind='bar',figsize=(12,8)) \n",
    "\n",
    "# labels and title\n",
    "plt.title('Correlaton between the victims gender and the arms they were carrying',fontsize=16)\n",
    "plt.xlabel('What arms did the victims have?',fontsize=14)\n",
    "plt.ylabel('Number',fontsize=14)\n",
    "plt.legend(fontsize=10)"
   ]
  },
  {
   "cell_type": "code",
   "execution_count": null,
   "metadata": {
    "colab": {
     "base_uri": "https://localhost:8080/",
     "height": 0
    },
    "id": "KuH5aPK4_SId",
    "outputId": "e2bdc806-4a9d-475d-95b1-359e4455d02a"
   },
   "outputs": [],
   "source": [
    "#Plotting our bar graph \n",
    "df.groupby(['race','signs_of_mental_illness']).id.count().unstack().plot(kind='bar',figsize=(12,8), stacked = True) \n",
    "\n",
    "# labels and title\n",
    "plt.title('Correlaton between the victims race and signs of mental illness',fontsize=16)\n",
    "plt.xlabel('Did victim show signs of mental illness?',fontsize=14)\n",
    "plt.ylabel('Number',fontsize=14)\n",
    "plt.legend(fontsize=10)"
   ]
  },
  {
   "cell_type": "code",
   "execution_count": null,
   "metadata": {
    "colab": {
     "base_uri": "https://localhost:8080/",
     "height": 0
    },
    "id": "y1Gluctf_SId",
    "outputId": "44a9287e-79b2-4cb3-e1dc-dd7bc422095b"
   },
   "outputs": [],
   "source": [
    "#Plotting our bar graph \n",
    "df.groupby(['race','threat_level']).id.count().sort_values(ascending =True).unstack().plot(kind='barh',figsize=(12,8), stacked = True) \n",
    "\n",
    "# labels and title\n",
    "plt.title('Correlaton between the victims race and threat level',fontsize=16)\n",
    "plt.xlabel('What threatlevel did the victim display',fontsize=14)\n",
    "plt.ylabel('Number',fontsize=14)\n",
    "plt.legend(fontsize=10)"
   ]
  },
  {
   "cell_type": "code",
   "execution_count": null,
   "metadata": {
    "colab": {
     "base_uri": "https://localhost:8080/",
     "height": 0
    },
    "id": "5ktq7gJP_SIe",
    "outputId": "7ae445df-19d6-4493-e46c-3d37f3d62b05"
   },
   "outputs": [],
   "source": [
    "#Plotting our bar graph \n",
    "df.groupby(['race','flee']).id.count().unstack().plot(kind='bar',figsize=(12,8),stacked = True) \n",
    "\n",
    "# labels and title\n",
    "plt.title('Correlaton between the victims race and whether the victim attempted to flee',fontsize=16)\n",
    "plt.xlabel('Did the victim attempt to flee? and if soo, how?',fontsize=14)\n",
    "plt.ylabel('Number',fontsize=14)\n",
    "plt.legend(fontsize=10)"
   ]
  },
  {
   "cell_type": "code",
   "execution_count": null,
   "metadata": {
    "colab": {
     "base_uri": "https://localhost:8080/",
     "height": 0
    },
    "id": "L2YDlVIX_SIe",
    "outputId": "f7b282e4-546f-4a1b-f832-5cf16b6059f7"
   },
   "outputs": [],
   "source": [
    "#Plotting our bar graph \n",
    "df.groupby(['race','body_camera']).id.count().unstack().plot(kind='bar',figsize=(12,8)) \n",
    "\n",
    "# labels and title\n",
    "plt.title('Correlaton between the victims race and whether the police body camera was on',fontsize=16)\n",
    "plt.xlabel('Was thee police body camera on?',fontsize=14)\n",
    "plt.ylabel('Number',fontsize=14)\n",
    "plt.legend(fontsize=10)"
   ]
  },
  {
   "cell_type": "code",
   "execution_count": null,
   "metadata": {
    "colab": {
     "base_uri": "https://localhost:8080/",
     "height": 0
    },
    "id": "uC3cyPTk_SIe",
    "outputId": "dd5b2b8f-9be7-453b-dab0-ed1185cc6102"
   },
   "outputs": [],
   "source": [
    "#Plotting our bar graph \n",
    "df.groupby(['threat_level','signs_of_mental_illness']).id.count().unstack().plot(kind='bar',figsize=(12,8)) \n",
    "\n",
    "# labels and title\n",
    "plt.title('Correlaton between the victims mental state and the victims threat level',fontsize=16)\n",
    "plt.xlabel('What threat level did the victim display',fontsize=14)\n",
    "plt.ylabel('Number',fontsize=14)\n",
    "plt.legend(fontsize=10)"
   ]
  },
  {
   "cell_type": "code",
   "execution_count": null,
   "metadata": {
    "colab": {
     "base_uri": "https://localhost:8080/",
     "height": 0
    },
    "id": "7byA0eHP_SIf",
    "outputId": "23416e5a-65b7-43bf-da51-a00f48527154"
   },
   "outputs": [],
   "source": [
    "#Plotting our bar graph \n",
    "df.groupby(['flee','signs_of_mental_illness']).id.count().unstack().plot(kind='bar',figsize=(12,8)) \n",
    "\n",
    "# labels and title\n",
    "plt.title('Correlaton between the victims mental state and the victims attempt to flee',fontsize=16)\n",
    "plt.xlabel('Did the victim attempt to flee?',fontsize=14)\n",
    "plt.ylabel('Number',fontsize=14)\n",
    "plt.legend(fontsize=10)"
   ]
  },
  {
   "cell_type": "code",
   "execution_count": null,
   "metadata": {
    "colab": {
     "base_uri": "https://localhost:8080/",
     "height": 0
    },
    "id": "so27ZENp_SIf",
    "outputId": "4ecabeb2-4e6b-48d0-d6e9-fda64b760604"
   },
   "outputs": [],
   "source": [
    "#Plotting our bar graph \n",
    "df.groupby(['signs_of_mental_illness','body_camera']).id.count().unstack().plot(kind='bar',figsize=(12,8)) \n",
    "\n",
    "# labels and title\n",
    "plt.title('Correlaton between the victims mental state and the police body camera being on',fontsize=16)\n",
    "plt.xlabel('Was the body camera on?',fontsize=14)\n",
    "plt.ylabel('Number',fontsize=14)\n",
    "plt.legend(fontsize=10)"
   ]
  },
  {
   "cell_type": "code",
   "execution_count": null,
   "metadata": {
    "colab": {
     "base_uri": "https://localhost:8080/",
     "height": 0
    },
    "id": "haTuguQY_SIf",
    "outputId": "60efaef3-b86d-4388-8197-33dc8ac92720"
   },
   "outputs": [],
   "source": [
    "#Plotting our bar graph \n",
    "df.groupby(['arms_category','signs_of_mental_illness']).id.count().unstack().plot(kind='barh',figsize=(12,8), stacked = True) \n",
    "\n",
    "# labels and title\n",
    "plt.title('Correlaton between the victims mental state and the kind of arms they were carrying',fontsize=16)\n",
    "plt.ylabel('What arms were the victims carrying?',fontsize=14)\n",
    "plt.xlabel('Number',fontsize=14)\n",
    "plt.legend(fontsize=10)"
   ]
  },
  {
   "cell_type": "code",
   "execution_count": null,
   "metadata": {
    "colab": {
     "base_uri": "https://localhost:8080/",
     "height": 0
    },
    "id": "LWrdevv-_SIg",
    "outputId": "c077fba8-6a83-485a-bd7b-c24204ff52cc"
   },
   "outputs": [],
   "source": [
    "#Plotting our bar graph \n",
    "df.groupby(['flee','threat_level']).id.count().unstack().plot(kind='bar',figsize=(12,8)) \n",
    "\n",
    "# labels and title\n",
    "plt.title('Correlaton between the victims threat level and their attempt to flee',fontsize=16)\n",
    "plt.xlabel('How did the victim attempt to flee',fontsize=14)\n",
    "plt.ylabel('Number',fontsize=14)\n",
    "plt.legend(fontsize=10)"
   ]
  },
  {
   "cell_type": "code",
   "execution_count": null,
   "metadata": {
    "colab": {
     "base_uri": "https://localhost:8080/",
     "height": 0
    },
    "id": "WIMqUgr0_SIg",
    "outputId": "5a3037d6-7d81-4842-9d49-4db0beb853b4"
   },
   "outputs": [],
   "source": [
    "#Plotting our bar graph \n",
    "df.groupby(['threat_level','body_camera']).id.count().unstack().plot(kind='bar',figsize=(12,8), stacked = True) \n",
    "\n",
    "# labels and title\n",
    "plt.title('Correlaton between the victims threat level and the police body camera being on',fontsize=16)\n",
    "plt.xlabel('Was the body camera on',fontsize=14)\n",
    "plt.ylabel('Number',fontsize=14)\n",
    "plt.legend(fontsize=10)"
   ]
  },
  {
   "cell_type": "code",
   "execution_count": null,
   "metadata": {
    "colab": {
     "base_uri": "https://localhost:8080/",
     "height": 0
    },
    "id": "I7Q9az5f_SIg",
    "outputId": "14176855-0859-4efd-ee2c-561aecef9b71"
   },
   "outputs": [],
   "source": [
    "#Plotting our bar graph \n",
    "df.groupby(['arms_category','threat_level']).id.count().unstack().plot(kind='bar',figsize=(12,8), stacked = True) \n",
    "\n",
    "# labels and title\n",
    "plt.title('Correlaton between the victims threat level and the type of arms they are carrying',fontsize=16)\n",
    "plt.xlabel('What arms were the victims carrying',fontsize=14)\n",
    "plt.ylabel('Number',fontsize=14)\n",
    "plt.legend(fontsize=10)"
   ]
  },
  {
   "cell_type": "code",
   "execution_count": null,
   "metadata": {
    "colab": {
     "base_uri": "https://localhost:8080/",
     "height": 0
    },
    "id": "MFo31BXH_SIg",
    "outputId": "e262f01c-e9e5-44c6-caae-8a00b0c14502"
   },
   "outputs": [],
   "source": [
    "#Plotting our bar graph \n",
    "df.groupby(['flee','body_camera']).id.count().unstack().plot(kind='bar',figsize=(12,8), stacked = True)\n",
    "\n",
    "# labels and title\n",
    "plt.title('relaton between the victims attempt to flee and whether police had body camera on',fontsize=16)\n",
    "plt.xlabel('Was the body camera on',fontsize=14)\n",
    "plt.ylabel('Number',fontsize=14)\n",
    "plt.legend(fontsize=10)"
   ]
  },
  {
   "cell_type": "code",
   "execution_count": null,
   "metadata": {
    "colab": {
     "base_uri": "https://localhost:8080/",
     "height": 0
    },
    "id": "SZ4zb3sg_SIh",
    "outputId": "fcebc917-c088-4578-9710-65e75910e4de"
   },
   "outputs": [],
   "source": [
    "#Plotting our bar graph \n",
    "df.groupby(['arms_category','flee']).id.count().unstack().plot(kind='bar',figsize=(12,8), stacked = True) \n",
    "\n",
    "# labels and title\n",
    "plt.title('Correlaton between the victims attempting to flee and the arms they ar carrying',fontsize=16)\n",
    "plt.xlabel('What arm was the victim carrying',fontsize=14)\n",
    "plt.ylabel('Number',fontsize=14)\n",
    "plt.legend(fontsize=10)"
   ]
  },
  {
   "cell_type": "code",
   "execution_count": null,
   "metadata": {
    "colab": {
     "base_uri": "https://localhost:8080/",
     "height": 0
    },
    "id": "jAvy0vSw_SIh",
    "outputId": "7d29e209-2ab8-4bd1-b34d-7edd2ad8098d"
   },
   "outputs": [],
   "source": [
    "#Plotting our bar graph \n",
    "df.groupby(['arms_category','body_camera']).id.count().unstack().plot(kind='bar',figsize=(12,8), stacked = True) \n",
    "\n",
    "# labels and title\n",
    "plt.title('Correlaton between the the body camera being on and what arms the victim was carrying',fontsize=16)\n",
    "plt.xlabel('What arms was the victim carrying',fontsize=14)\n",
    "plt.ylabel('Number',fontsize=14)\n",
    "plt.legend(fontsize=10)"
   ]
  },
  {
   "cell_type": "code",
   "execution_count": null,
   "metadata": {
    "colab": {
     "base_uri": "https://localhost:8080/",
     "height": 0
    },
    "id": "pNAPoNYs_SIh",
    "outputId": "e6b3e240-44d1-4979-faf1-8c686fa12d4d"
   },
   "outputs": [],
   "source": [
    "#Plotting our bar graph \n",
    "df.groupby(['race', 'body_camera']).id.count().unstack().plot(kind='bar',figsize=(12,8))\n",
    "\n",
    "# labels and title\n",
    "plt.title('Comparison of usage of body cameras dependent on different races',fontsize=16)\n",
    "plt.xlabel('Was body camera on?',fontsize=14)\n",
    "plt.ylabel('Number',fontsize=14)\n",
    "plt.legend(fontsize=10)"
   ]
  },
  {
   "cell_type": "code",
   "execution_count": null,
   "metadata": {
    "id": "lGNBYB2b_Rj5"
   },
   "outputs": [],
   "source": []
  },
  {
   "cell_type": "markdown",
   "metadata": {
    "id": "8C08FlQrZZ3h"
   },
   "source": [
    "##Multivariate Plots"
   ]
  },
  {
   "cell_type": "code",
   "execution_count": null,
   "metadata": {
    "id": "_5ujkKG2jPjj"
   },
   "outputs": [],
   "source": [
    "# import sys\n",
    "# !{sys.executable} -m pip install -U pandas-profiling[notebook]\n",
    "# !jupyter nbextension enable --py widgetsnbextension"
   ]
  },
  {
   "cell_type": "code",
   "execution_count": null,
   "metadata": {
    "id": "NyJA5GMQZv-4"
   },
   "outputs": [],
   "source": [
    "# !pip install https://github.com/pandas-profiling/pandas-profiling/archive/master.zip\n",
    "  \n",
    "# from pandas_profiling import ProfileReport\n",
    "\n",
    "# import sys\n",
    "# !{sys.executable} -m pip install -U pandas-profiling[notebook]\n",
    "# !jupyter nbextension enable --py widgetsnbextension"
   ]
  },
  {
   "cell_type": "code",
   "execution_count": null,
   "metadata": {
    "id": "HTvwO7ooZ8bk"
   },
   "outputs": [],
   "source": [
    "# profile = ProfileReport(df, title='Pandas Profiling Report - Police Shooting in the US', explorative=True)\n",
    "# profile.to_widgets()"
   ]
  },
  {
   "cell_type": "code",
   "execution_count": null,
   "metadata": {
    "id": "A7FR9FZ4Bnqe"
   },
   "outputs": [],
   "source": [
    "# ## Check the equality of the variances between the two groups using Levene's test\n",
    "\n",
    "# stat,p = stats.levene(day_sample['bluecars_taken_sum'], end_sample['bluecars_taken_sum'], center='mean') \n",
    "# # we use center = mean because our samples are fairly/moderately skewed\n",
    "\n",
    "# print('Statistic=%.4f, pvalue=%.4f' % (stat, p))\n",
    "# print('\\n')\n",
    "# # Interpretation of the Levene's test results\n",
    "\n",
    "# alpha = 0.05\n",
    "# if p <= alpha:\n",
    "# \tprint('The two variances are significantly different')\n",
    "# else:\n",
    "# \tprint('The two variances are approximately equal')\n",
    "# print('\\n')\n",
    "# print('\\n')\n",
    "# # calculate the means\n",
    "\n",
    "# # a) of the bluecars taken on monday dataframe\n",
    "\n",
    "# day_mean = day_sample['bluecars_taken_sum'].mean()\n",
    "\n",
    "# print('The mean of the Monday bluecars rented out data sample is: ', day_mean)\n",
    "# print('\\n')\n",
    "# print('\\n')\n",
    "# # b) of the bluecars taken on Friday dataframe\n",
    "\n",
    "# end_mean = end_sample['bluecars_taken_sum'].mean()\n",
    "\n",
    "# print('The mean of the Friday bluecars rented out data sample is: ', end_mean)\n",
    "# print('\\n')\n",
    "# print('\\n')\n",
    "# # calculate the standard deviation:\n",
    "\n",
    "# # a) of the bluecars taken on monday dataframe\n",
    "\n",
    "# day_std = day_sample['bluecars_taken_sum'].std()\n",
    "\n",
    "# print('The standard deviation of the Monday bluecars rented out data sample is: ', day_std)\n",
    "# print('\\n')\n",
    "# print('\\n')\n",
    "# # b) of the bluecars taken on friday dataframe\n",
    "\n",
    "# end_std = end_sample['bluecars_taken_sum'].std()\n",
    "\n",
    "# print('The standard deviation of the Friday bluecars rented out data sample is: ', end_std)\n",
    "# print('\\n')\n",
    "# print('\\n')\n",
    "# # calculate the standard error (se = std / sqrt(n)):\n",
    "\n",
    "# # a) of the bluecars taken on monday dataframe\n",
    "\n",
    "# day_std_error = day_std/ len(day_sample)\n",
    "\n",
    "# print('The standard error of the Monday bluecars rented out data sample is: ', day_std_error)\n",
    "# print('\\n')\n",
    "# print('\\n')\n",
    "# # b) of the bluecars taken on friday dataframe\n",
    "\n",
    "# end_std_error = end_std/ len(end_sample)\n",
    "\n",
    "# print('The standard error of the Friday bluecars rented out data sample is ', end_std_error)\n",
    "# print('\\n')\n",
    "# print('\\n')\n",
    "\n",
    "# difference = sqrt((day_std_error**2) + (end_std_error**2))\n",
    "\n",
    "# print(\"the standard error of the difference between the means is:\",difference)\n",
    "# print('\\n')\n",
    "# print('\\n')\n",
    "\n",
    "# #find the T statistic\n",
    "\n",
    "# t_statistic = (day_mean - end_mean)/difference\n",
    "\n",
    "\n",
    "# print(\"The T statistic is\",t_statistic)\n",
    "# print('\\n')\n",
    "# print('\\n')\n",
    "\n",
    "\n",
    "# # find the critical value\n",
    "\n",
    "# c_value = t.ppf(1.0 - alpha, freedom)\n",
    "\n",
    "# c_value\n",
    "# print(\"the Critical value is\", c_value)\n",
    "# print('\\n')\n",
    "# print('\\n')"
   ]
  },
  {
   "cell_type": "markdown",
   "metadata": {
    "id": "72x73no0kgT2"
   },
   "source": [
    "# **8. Hypothesis Testing**"
   ]
  },
  {
   "cell_type": "markdown",
   "metadata": {
    "id": "x9U3HHPwR-Mq"
   },
   "source": [
    "## Do police shoot more minorities than white people?\n",
    "\n"
   ]
  },
  {
   "cell_type": "markdown",
   "metadata": {
    "id": "JHbfVvkLR-Mr"
   },
   "source": [
    "Null hypothesis: People of minority races are shot by police more than white individuals\n",
    "\n",
    "Alternative hypothesis: People of minority races are shot by police less than the white individuals.\n",
    "\n",
    "Keys\n",
    "\n",
    "$H_{0}$ = Null hypothesis\n",
    "\n",
    "$H_{1}$ = Alternative hypothesis\n",
    "\n",
    "$mu_{1}$ = *Number of white people shot*\n",
    "\n",
    "$mu_{2}$ = *Number of Minority people shot*\n",
    "\n",
    "$H_{0}$: $mu_{1}$ < $mu_{2}$\n",
    "\n",
    "$H_{1}$: $mu_{1}$ > $mu_{2}$\n"
   ]
  },
  {
   "cell_type": "markdown",
   "metadata": {
    "id": "fVCZSj19kP5l"
   },
   "source": [
    "We are going to first group the races by whites and other races (minorities)."
   ]
  },
  {
   "cell_type": "code",
   "execution_count": null,
   "metadata": {
    "id": "UkM9VYLUR-Ms"
   },
   "outputs": [],
   "source": [
    "ndf = df.copy()"
   ]
  },
  {
   "cell_type": "code",
   "execution_count": null,
   "metadata": {
    "colab": {
     "base_uri": "https://localhost:8080/",
     "height": 0
    },
    "id": "RJ0o7dZmR-Mt",
    "outputId": "cb2b3850-2f68-41f2-d9e3-6949fb61b75b"
   },
   "outputs": [],
   "source": [
    "#displaying the new copy of the datafrane\n",
    "ndf.head()"
   ]
  },
  {
   "cell_type": "code",
   "execution_count": null,
   "metadata": {
    "colab": {
     "base_uri": "https://localhost:8080/",
     "height": 0
    },
    "id": "2Ca_9EFpR-Mt",
    "outputId": "b1107070-afcb-4032-a214-c4f910fb7080"
   },
   "outputs": [],
   "source": [
    "# Creating a subset with white race sample data\n",
    "\n",
    "white =  ndf.loc[df['race']=='White'] \n",
    "\n",
    "#Creating a subset with minority race sample data\n",
    "minority =  ndf.loc[df['race']!='White'] \n",
    "\n",
    "#get the shape of the dataframe\n",
    "print(white.shape)\n",
    "\n",
    "#preview the first five rows of the dataframe\n",
    "white.head()\n"
   ]
  },
  {
   "cell_type": "code",
   "execution_count": null,
   "metadata": {
    "colab": {
     "base_uri": "https://localhost:8080/",
     "height": 0
    },
    "id": "tfqUK2U-R-Mv",
    "outputId": "dfc7bd12-11ad-44ad-ccb0-6612b1ffbcae"
   },
   "outputs": [],
   "source": [
    "#get shape of the dataframe\n",
    "print(minority.shape)\n",
    "#Preview of minority dataset\n",
    "minority.head()"
   ]
  },
  {
   "cell_type": "code",
   "execution_count": null,
   "metadata": {
    "colab": {
     "base_uri": "https://localhost:8080/"
    },
    "id": "ZkMix5akeFYv",
    "outputId": "de45ed5a-0ac1-4b80-b987-a6fed20141b8"
   },
   "outputs": [],
   "source": [
    "#how many individual cases are the white dataframe\n",
    "\n",
    "white['id'].value_counts().size"
   ]
  },
  {
   "cell_type": "code",
   "execution_count": null,
   "metadata": {
    "colab": {
     "base_uri": "https://localhost:8080/"
    },
    "id": "8l4aEfcMeHsq",
    "outputId": "598153ab-44e8-4a6f-e7ca-695e379d887a"
   },
   "outputs": [],
   "source": [
    "#how many individual cases are there in the minority dataframe\n",
    "\n",
    "minority['id'].value_counts().size"
   ]
  },
  {
   "cell_type": "code",
   "execution_count": null,
   "metadata": {
    "id": "cTjldHpSdO1G"
   },
   "outputs": [],
   "source": [
    "#we will use the ranksum function from scipy to compare the counts of the different dataframes\n",
    "#we use the valuecounts function in order to compare the occurences of the different races\n",
    "from scipy.stats import ranksums\n",
    "(t_stat, p) = ranksums(white['race'].value_counts(), minority['race'].value_counts())"
   ]
  },
  {
   "cell_type": "code",
   "execution_count": null,
   "metadata": {
    "colab": {
     "base_uri": "https://localhost:8080/"
    },
    "id": "gGZVQl5BgvPh",
    "outputId": "01f3ca30-fa45-4c36-a27e-d68b4183d016"
   },
   "outputs": [],
   "source": [
    "#Lets get the statistic and p value figures\n",
    "\n",
    "print('Statistic=%.4f, pvalue=%.4f' % (t_stat, p))\n",
    "print('\\n')"
   ]
  },
  {
   "cell_type": "code",
   "execution_count": null,
   "metadata": {
    "colab": {
     "base_uri": "https://localhost:8080/"
    },
    "id": "91PsvldtgvL8",
    "outputId": "a0bc96a9-cb38-4783-ef7c-6c8d2606b93e"
   },
   "outputs": [],
   "source": [
    "#Are the variances between the 2 approximately equal?\n",
    "\n",
    "alpha = 0.05\n",
    "if p <= alpha:\n",
    "\tprint('The two variances are significantly different')\n",
    "else:\n",
    "\tprint('The two variances are approximately equal')\n",
    "print('\\n')\n",
    "print('\\n')"
   ]
  },
  {
   "cell_type": "code",
   "execution_count": null,
   "metadata": {
    "colab": {
     "base_uri": "https://localhost:8080/"
    },
    "id": "T_w5R56VjSwv",
    "outputId": "02d5bce0-c08f-46f6-bf06-d298339722d1"
   },
   "outputs": [],
   "source": [
    "# Conduct the independent Welch's t-test using scipy.stats, use the stats.ttest_ind() method\n",
    "#stat,p = stats.ttest_ind(white_sample['race'].value_counts(), minority_sample['race'].value_counts(), equal_var=False)\n",
    "\n",
    "print('Statistic=%.14f, pvalue=%.14f' % (t_stat, p))\n",
    "\n",
    "# Interpretation of the t-test results with 0.05 as the significance level\n",
    "alpha = 0.025 #since the test is two tailed\n",
    "if p <= alpha:\n",
    "\tprint('We reject the null hypothesis')\n",
    "else:\n",
    "\tprint('We fail to reject the null hypothesis')"
   ]
  },
  {
   "cell_type": "markdown",
   "metadata": {
    "id": "o_MGpmmee_2q"
   },
   "source": [
    "In conclusion, the study shows no significant difference between the number of white people killed as compared to minorities.\n",
    "\n",
    "However we must take into consideration that according to the 2019 census, The white race contributed to 76% of the population. The minority races combined contributed to 24%\n",
    "\n",
    "If the number of minorities being killed is equal to the number of white people being killed, there is clearly some bias towards police killing minorities as compared to white people. i.e\n",
    "\n",
    "Total population in the US: 328.8 MILION\n",
    "\n",
    "White population in the US: 249.4 MILION\n",
    "\n",
    "Minority popluation in the US: 78.9 MILION\n",
    "\n",
    "However the number of people killed is not proportionate to the population race distribution\n",
    "\n",
    "We can therefore conclude through knowledge that:\n",
    "\n",
    "POLICE ARE MORE LIKELY TO KILL A MINORITY THAN TO KILL A WHITE PERSON\n",
    "\n",
    "\n"
   ]
  },
  {
   "cell_type": "markdown",
   "metadata": {
    "id": "ode7I8nwRmyf"
   },
   "source": [
    "##Are police biased to shoot people between 19 and 25 years as compared to people in different age groups?\n",
    "\n"
   ]
  },
  {
   "cell_type": "markdown",
   "metadata": {
    "id": "pAhiarvCjIY7"
   },
   "source": [
    "Null hypothesis: More people between the ages of 19 - 25 are killed than other ages\n",
    "\n",
    "Alternative hypothesis: More people not within the 19 - 25 age groups are killed than those within the age group\n",
    "\n",
    "Keys\n",
    "\n",
    "$H_{0}$ = Null hypothesis\n",
    "\n",
    "$H_{1}$ = Alternative hypothesis\n",
    "\n",
    "$mu_{1}$ = *people killed within 19 - 25*\n",
    "\n",
    "$mu_{2}$ = *People killed not within 19 - 25*\n",
    "\n",
    "$H_{0}$: $mu_{1}$ > $mu_{2}$\n",
    "\n",
    "$H_{1}$: $mu_{1}$ < $mu_{2}$\n"
   ]
  },
  {
   "cell_type": "markdown",
   "metadata": {
    "id": "BPLclaXpkJNE"
   },
   "source": [
    "We are first going to group the data into 2 subsets containing the different age groups"
   ]
  },
  {
   "cell_type": "code",
   "execution_count": null,
   "metadata": {
    "colab": {
     "base_uri": "https://localhost:8080/",
     "height": 324
    },
    "id": "IDn7_901Rmyh",
    "outputId": "9cd850bc-1b77-4dbe-8caf-09e94ca5789c"
   },
   "outputs": [],
   "source": [
    "# Creating a subset with ages 19 - 25\n",
    "belnine =  ndf.loc[(df['age'] >18) & (df['age'] <26 )] \n",
    "abovefive =  ndf.loc[(df['age'] <19) | (df['age'] >25 )] \n",
    "\n",
    "belnine.head()\n",
    "abovefive.head()\n"
   ]
  },
  {
   "cell_type": "code",
   "execution_count": null,
   "metadata": {
    "colab": {
     "base_uri": "https://localhost:8080/",
     "height": 341
    },
    "id": "OEJOf7vi3OmR",
    "outputId": "b6367517-b290-48f5-855a-bb736b95d40a"
   },
   "outputs": [],
   "source": [
    "#previewing the frist 5 rows of 19 - 25 subset\n",
    "belnine.head()"
   ]
  },
  {
   "cell_type": "code",
   "execution_count": null,
   "metadata": {
    "colab": {
     "base_uri": "https://localhost:8080/"
    },
    "id": "ePIYZ5UQnxG6",
    "outputId": "4fb994e4-b2b8-46d5-db88-78c333cf4316"
   },
   "outputs": [],
   "source": [
    "#count the number of unique entries in the between 19 - 25 dataframe\n",
    "belnine['id'].value_counts().size"
   ]
  },
  {
   "cell_type": "code",
   "execution_count": null,
   "metadata": {
    "colab": {
     "base_uri": "https://localhost:8080/"
    },
    "id": "XmBEOeOBD2pt",
    "outputId": "be9b295e-37a9-4bb5-a8cd-4370a1616f16"
   },
   "outputs": [],
   "source": [
    "#count the number of unique entries in the dataset that does not include ages 19 - 25 dataframe\n",
    "abovefive['id'].value_counts().size"
   ]
  },
  {
   "cell_type": "markdown",
   "metadata": {
    "id": "UfxPyeQgkuoI"
   },
   "source": [
    "We can conclude that there are significantly more entries in the dataset that does not include the ages between 19 and 25\n"
   ]
  },
  {
   "cell_type": "code",
   "execution_count": null,
   "metadata": {
    "colab": {
     "base_uri": "https://localhost:8080/"
    },
    "id": "4s45dva7oUi-",
    "outputId": "586f5cd5-395b-4f9c-9abf-af3d950ce16a"
   },
   "outputs": [],
   "source": [
    "# ## Check the equality of the variances between the two groups using Levene's test\n",
    "\n",
    "stat,p = stats.levene(belnine['age'], abovefive['age']) \n",
    "#we use center = mean because our samples are fairly/moderately skewed\n",
    "\n",
    "print('Statistic=%.4f, pvalue=%.4f' % (stat, p))\n",
    "print('\\n')"
   ]
  },
  {
   "cell_type": "markdown",
   "metadata": {
    "id": "1NJnTb-AlO84"
   },
   "source": [
    "The P - value of 0 tells us differences between the groups are significant.\n"
   ]
  },
  {
   "cell_type": "code",
   "execution_count": null,
   "metadata": {
    "colab": {
     "base_uri": "https://localhost:8080/"
    },
    "id": "XEBhYeVloUa1",
    "outputId": "9eef7cad-eecc-4331-daf7-a2be65b6bc3e"
   },
   "outputs": [],
   "source": [
    "#Interpretation of the Levene's test results\n",
    "\n",
    "alpha = 0.05\n",
    "if p <= alpha:\n",
    "\tprint('The two variances are significantly different')\n",
    "else:\n",
    "\tprint('The two variances are approximately equal')\n",
    "print('\\n')"
   ]
  },
  {
   "cell_type": "code",
   "execution_count": null,
   "metadata": {
    "colab": {
     "base_uri": "https://localhost:8080/"
    },
    "id": "MJh8OcOfoUVK",
    "outputId": "ae918c99-c3f1-47e7-9609-75a4a27e07f9"
   },
   "outputs": [],
   "source": [
    "#calculate the means\n",
    "\n",
    "# a) of the ages between 19 and 25\n",
    "\n",
    "belnine_mean = belnine['age'].mean()\n",
    "\n",
    "print('The mean of the 19 - 25  sample data race column is: ', belnine_mean)\n",
    "print('\\n')\n",
    "\n",
    "# b) of the ages below 19 and above 25\n",
    "\n",
    "abovefive_mean = abovefive['age'].mean()\n",
    "\n",
    "print('The mean of the sample not between 19 - 25 data column is: ', abovefive_mean)\n",
    "print('\\n')\n"
   ]
  },
  {
   "cell_type": "markdown",
   "metadata": {
    "id": "tFtHuIgaqTap"
   },
   "source": [
    "The mean age for the different subsets are shown above\n"
   ]
  },
  {
   "cell_type": "code",
   "execution_count": null,
   "metadata": {
    "colab": {
     "base_uri": "https://localhost:8080/"
    },
    "id": "IVccZzzuKl0y",
    "outputId": "44698a7a-95c6-4740-8064-fc4c85680d72"
   },
   "outputs": [],
   "source": [
    "# calculate standard deviation\n",
    "belnine_std = belnine['age'].std()\n",
    "\n",
    "print('The standard deviation of 19 - 25 data is: ', belnine_std)\n",
    "print('\\n')\n",
    "\n",
    "# b) of the white race sample dataframe\n",
    "\n",
    "abovefive_std = abovefive['age'].std()\n",
    "\n",
    "print('The standard deviation of sample not between 19 - 25  is: : ', abovefive_std)\n",
    "print('\\n')"
   ]
  },
  {
   "cell_type": "markdown",
   "metadata": {
    "id": "G-xLrI3eqkzC"
   },
   "source": [
    "This shows us that there is a small deviation from the mean in the 19 - 25 dataset as compared to the latter"
   ]
  },
  {
   "cell_type": "code",
   "execution_count": null,
   "metadata": {
    "colab": {
     "base_uri": "https://localhost:8080/"
    },
    "id": "h1vlAUJzLUSd",
    "outputId": "6f6a732a-1bbb-4186-9ea3-36691b56fc53"
   },
   "outputs": [],
   "source": [
    "# calculate the standard error (se = std / sqrt(n)):\n",
    "\n",
    "# a) of the minority race sample dataframe\n",
    "\n",
    "belnine_std_error = belnine_std/ len(belnine)\n",
    "\n",
    "print('The standard error of the 19 - 25 data sample is: ', belnine_std_error)\n",
    "print('\\n')\n",
    "print('\\n')\n",
    "# b) of the white race sample dataframe\n",
    "\n",
    "abovefive_std_error = abovefive_std/ len(abovefive)\n",
    "\n",
    "print('The standard error of the sample not between 19 - 25 is ', abovefive_std_error)\n",
    "print('\\n')"
   ]
  },
  {
   "cell_type": "markdown",
   "metadata": {
    "id": "Z2fQPCGnrJQ1"
   },
   "source": [
    "A low standard error shows that sample means are closely distributed around the population mean — our sample is representative of your population"
   ]
  },
  {
   "cell_type": "code",
   "execution_count": null,
   "metadata": {
    "colab": {
     "base_uri": "https://localhost:8080/"
    },
    "id": "43jFP8vGNOH8",
    "outputId": "6d5f2a8c-028f-49a0-a911-8eec484aec51"
   },
   "outputs": [],
   "source": [
    "#Calculate the difference of standard errors\n",
    "difference = sqrt(belnine_std_error**2) + sqrt(abovefive_std_error**2)\n",
    "\n",
    "print(\"the standard error of the difference between the means is:\",difference)\n",
    "print('\\n')\n"
   ]
  },
  {
   "cell_type": "code",
   "execution_count": null,
   "metadata": {
    "colab": {
     "base_uri": "https://localhost:8080/"
    },
    "id": "tXq6GAShOaVq",
    "outputId": "518db703-b987-4e4e-a6eb-abd22e827c03"
   },
   "outputs": [],
   "source": [
    "t_statistic = (belnine_mean - abovefive_mean)/difference\n",
    "\n",
    "\n",
    "print(\"The T statistic is\",t_statistic)\n",
    "print('\\n')"
   ]
  },
  {
   "cell_type": "code",
   "execution_count": null,
   "metadata": {
    "colab": {
     "base_uri": "https://localhost:8080/"
    },
    "id": "joLGRhPxScWA",
    "outputId": "bd9381b3-e58c-4ff1-b345-846b55ebbaf4"
   },
   "outputs": [],
   "source": [
    "freedom = len(belnine) + len(abovefive) - 2\n",
    "\n",
    "freedom\n",
    "# find the critical value\n",
    "\n",
    "c_value = t.ppf(1.0 - alpha, freedom)\n",
    "\n",
    "c_value\n",
    "print(\"the Critical value is\", c_value)\n",
    "print('\\n')"
   ]
  },
  {
   "cell_type": "code",
   "execution_count": null,
   "metadata": {
    "colab": {
     "base_uri": "https://localhost:8080/"
    },
    "id": "tx6H7VaySmcM",
    "outputId": "b9986412-1723-432d-e793-c8a1ae60e309"
   },
   "outputs": [],
   "source": [
    "if abs(t_statistic) <= c_value:\n",
    "\tprint('Accept null hypothesis')\n",
    "else:\n",
    "\tprint('Reject the null hypothesis')"
   ]
  },
  {
   "cell_type": "markdown",
   "metadata": {
    "id": "V-2DMv8Es9Pf"
   },
   "source": [
    "In conclusion, the study shows a significant difference between the number of people between the ages 19 - 25 as compared to those not within this age group.\n",
    "\n",
    "This is shown by the count of shootings within the different datasets.\n",
    "\n",
    "It is more likely for someone not within the ages 19 - 25 to be shot than one within the ages 19 -25.\n",
    "\n",
    "We can therefore conclude through knowledge that:\n",
    "\n",
    "POLICE ARE MORE LIKELY TO SHOOT SOMEONE NOT WITHIN THE AGES 19 - 25 AS COMPARED WITH SOMEONE WITHIN THE AGES 19 -25\n",
    "\n",
    "\n"
   ]
  },
  {
   "cell_type": "code",
   "execution_count": null,
   "metadata": {
    "id": "26T5U-_ERmLc"
   },
   "outputs": [],
   "source": []
  },
  {
   "cell_type": "markdown",
   "metadata": {
    "id": "0i6cg7RxQZ4c"
   },
   "source": [
    "## **Location Hypothesis**\n",
    "\n",
    "Under this section we will seek to determine whether there are states and cities where police shootings happen more than others. To do this we will group states together based on their proximity to each other. \n",
    "\n",
    "**Null Hypothesis**: Most police shootings do not occur within nearby cities states and cities\n",
    "\n",
    "**Alternative Hypothesis**: Most police shootings occur within nearby cities states and cities"
   ]
  },
  {
   "cell_type": "code",
   "execution_count": null,
   "metadata": {
    "colab": {
     "base_uri": "https://localhost:8080/"
    },
    "id": "B5eOKf30QZ4c",
    "outputId": "ef14a8de-3354-4e77-e928-37030389ca8f"
   },
   "outputs": [],
   "source": [
    "#To be able to do this we shall be taking the top 2 cities which the shottings occurred and testing\n",
    "state = df['state'].value_counts()[:10] \n",
    "state"
   ]
  },
  {
   "cell_type": "code",
   "execution_count": null,
   "metadata": {
    "colab": {
     "base_uri": "https://localhost:8080/",
     "height": 324
    },
    "id": "JiAKskGFQZ4d",
    "outputId": "be5450b4-8ba1-4407-9390-6a828e6c0a45"
   },
   "outputs": [],
   "source": [
    "#CA dataset\n",
    "CA_df=df.loc[(df['state']== 'CA')]\n",
    "print(CA_df.shape)\n",
    "CA_df.head()"
   ]
  },
  {
   "cell_type": "code",
   "execution_count": null,
   "metadata": {
    "colab": {
     "base_uri": "https://localhost:8080/"
    },
    "id": "eVyUtNHUQZ4d",
    "outputId": "dc0cbba9-40fa-4e4d-dae3-7814db1be960"
   },
   "outputs": [],
   "source": [
    "sample1 = CA_df['city'].sample(n=25, random_state=1)\n",
    "sample1.head()"
   ]
  },
  {
   "cell_type": "code",
   "execution_count": null,
   "metadata": {
    "colab": {
     "base_uri": "https://localhost:8080/",
     "height": 324
    },
    "id": "lV9VCywKQZ4e",
    "outputId": "1df3debf-6311-4249-e0eb-0735f5ce2d84"
   },
   "outputs": [],
   "source": [
    "#TX dataset\n",
    "TX_df=df.loc[(df['state']== 'TX')]\n",
    "print(TX_df.shape)\n",
    "TX_df.head()"
   ]
  },
  {
   "cell_type": "code",
   "execution_count": null,
   "metadata": {
    "colab": {
     "base_uri": "https://localhost:8080/"
    },
    "id": "V0bXveGWQZ4e",
    "outputId": "7c2696cf-5d60-4817-b575-0ab9491b0cc3"
   },
   "outputs": [],
   "source": [
    "sample2 = TX_df['city'].sample(n=25, random_state=1)\n",
    "sample2.head()"
   ]
  },
  {
   "cell_type": "code",
   "execution_count": null,
   "metadata": {
    "colab": {
     "base_uri": "https://localhost:8080/"
    },
    "id": "SbMZ6TL5QZ4f",
    "outputId": "7afde032-d327-4b39-d565-643792ce3b68"
   },
   "outputs": [],
   "source": [
    "# ## Check the equality of the variances between the two groups using Levene's test\n",
    "stat,p = stats.levene(sample1.value_counts(), sample2.value_counts()) \n",
    "#we use center = mean because our samples are fairly/moderately skewed\n",
    "\n",
    "print('Statistic=%.4f, pvalue=%.4f' % (stat, p))"
   ]
  },
  {
   "cell_type": "code",
   "execution_count": null,
   "metadata": {
    "colab": {
     "base_uri": "https://localhost:8080/"
    },
    "id": "X3TLZO2oQZ4f",
    "outputId": "3a2a0e2e-c2f6-48ea-9728-7a1d4b4ec2e0"
   },
   "outputs": [],
   "source": [
    "#Interpreting the results\n",
    "if p<0.05:\n",
    "    print(\"Reject null hypothesis and Accept the alternative hypotheis\")\n",
    "else:\n",
    "    print(\"Fail to reject the null hypothesis\")"
   ]
  },
  {
   "cell_type": "markdown",
   "metadata": {
    "id": "-u9dwAMVQZ4g"
   },
   "source": [
    "## Point Estimate"
   ]
  },
  {
   "cell_type": "code",
   "execution_count": null,
   "metadata": {
    "colab": {
     "base_uri": "https://localhost:8080/"
    },
    "id": "LedPhG2WQZ4g",
    "outputId": "9e505ead-3d27-412f-ffa3-65a0769af35a"
   },
   "outputs": [],
   "source": [
    "#Calculate CA population mean\n",
    "CA_mean=CA_df['city'].value_counts().mean()\n",
    "CA_mean"
   ]
  },
  {
   "cell_type": "code",
   "execution_count": null,
   "metadata": {
    "colab": {
     "base_uri": "https://localhost:8080/"
    },
    "id": "U_XW-yvtQZ4g",
    "outputId": "2ede9a9e-b3c7-4ca7-934b-a6b25ed36f89"
   },
   "outputs": [],
   "source": [
    "#Sample 1 mean\n",
    "ca_mean=sample1.value_counts().mean()\n",
    "ca_mean"
   ]
  },
  {
   "cell_type": "code",
   "execution_count": null,
   "metadata": {
    "colab": {
     "base_uri": "https://localhost:8080/"
    },
    "id": "Tq3XsYA3QZ4h",
    "outputId": "5d9c766d-e1b5-412f-f8d2-59cd71299971"
   },
   "outputs": [],
   "source": [
    "#Calculate TX population mean\n",
    "TX_mean=TX_df['city'].value_counts().mean()\n",
    "TX_mean"
   ]
  },
  {
   "cell_type": "code",
   "execution_count": null,
   "metadata": {
    "colab": {
     "base_uri": "https://localhost:8080/"
    },
    "id": "sga2qyOWQZ4h",
    "outputId": "16bd8051-9b80-4110-c9b3-571a34e4d9c2"
   },
   "outputs": [],
   "source": [
    "#Calculating sample 2 mean\n",
    "tx_mean=sample2.value_counts().mean()\n",
    "tx_mean"
   ]
  },
  {
   "cell_type": "code",
   "execution_count": null,
   "metadata": {
    "colab": {
     "base_uri": "https://localhost:8080/"
    },
    "id": "rX-FVNDNQZ4i",
    "outputId": "fbb4277e-c1b0-4f2a-8352-b087f5f95890"
   },
   "outputs": [],
   "source": [
    "#Point Estimate \n",
    "point_estimate = ca_mean-tx_mean\n",
    "point_estimate\n",
    "#We interpretate that it's 9% likely for police shooting to occur in california nearby cities that it's in texas"
   ]
  },
  {
   "cell_type": "markdown",
   "metadata": {
    "id": "mxAIGlbUQZ4i"
   },
   "source": [
    "## Confidence Interval"
   ]
  },
  {
   "cell_type": "code",
   "execution_count": null,
   "metadata": {
    "colab": {
     "base_uri": "https://localhost:8080/"
    },
    "id": "Bb-At5evQZ4j",
    "outputId": "56dc193f-72d9-4cd8-95b8-1d1ed19a60f5"
   },
   "outputs": [],
   "source": [
    "#California\n",
    "#Sample size\n",
    "size1=sample1.shape[0]\n",
    "size1"
   ]
  },
  {
   "cell_type": "code",
   "execution_count": null,
   "metadata": {
    "colab": {
     "base_uri": "https://localhost:8080/"
    },
    "id": "TR3DXRcgQZ4j",
    "outputId": "81cc1cbd-c00a-438b-9621-8779f045030a"
   },
   "outputs": [],
   "source": [
    "#Standard error\n",
    "std_error=sample1.value_counts().std()\n",
    "std_error"
   ]
  },
  {
   "cell_type": "code",
   "execution_count": null,
   "metadata": {
    "colab": {
     "base_uri": "https://localhost:8080/"
    },
    "id": "JwjXpfIcQZ4k",
    "outputId": "7415845b-ba38-42ae-fa44-38f2699c6dfb"
   },
   "outputs": [],
   "source": [
    "# Calculating the 95% Confidence Interval for mean data \n",
    "# To calculate the confidence interval, we will use the norm object from the statssubpackage. \n",
    "# The norm object has an interval() method that receives three inputs \n",
    "# – our chosen confidence interval 0.95, and the sample mean and standard error of the mean.  \n",
    "# \n",
    "stats.norm.interval(0.95, loc=ca_mean, scale=std_error)"
   ]
  },
  {
   "cell_type": "code",
   "execution_count": null,
   "metadata": {
    "colab": {
     "base_uri": "https://localhost:8080/"
    },
    "id": "MFoD_yvuQZ4l",
    "outputId": "94c89e08-828c-495f-e1dc-82f638a6cb86"
   },
   "outputs": [],
   "source": [
    "#Texas\n",
    "#Sample size\n",
    "size2=sample1.shape[0]\n",
    "size2\n",
    "\n",
    "#Standard error\n",
    "std_error2=sample2.value_counts().std()\n",
    "std_error2\n",
    "\n",
    "stats.norm.interval(0.95, loc=tx_mean, scale=std_error2)"
   ]
  },
  {
   "cell_type": "markdown",
   "metadata": {},
   "source": [
    "## **Behaviour By Fleeing Hypothesis**\n",
    "\n",
    "In this, we are studying to test whether fleeing prompts the police to shoot. To do this we will group the dataset into two datasets. One with victims who did not flee and the other with those that flew.\n",
    "\n",
    "**Null Hypothesis**: Police shooting happens when the suspect attempt to flee\n",
    "\n",
    "**Alternative Hypothesis**: Police shooting happens when the suspect does not attempt to flee."
   ]
  },
  {
   "cell_type": "code",
   "execution_count": null,
   "metadata": {},
   "outputs": [],
   "source": [
    "vdf = df.copy()"
   ]
  },
  {
   "cell_type": "code",
   "execution_count": null,
   "metadata": {},
   "outputs": [],
   "source": [
    "vdf['flee'].unique()"
   ]
  },
  {
   "cell_type": "code",
   "execution_count": null,
   "metadata": {},
   "outputs": [],
   "source": [
    "flee_sample = vdf.loc[(vdf['flee'] =='Car')|(vdf['flee']== 'Foot')|(vdf['flee']=='Other')]\n",
    "flee_sample"
   ]
  },
  {
   "cell_type": "code",
   "execution_count": null,
   "metadata": {},
   "outputs": [],
   "source": [
    "flee_sample1 = flee_sample['flee'].sample(frac=0.2)\n",
    "print(flee_sample1.shape)\n",
    "flee_sample1"
   ]
  },
  {
   "cell_type": "code",
   "execution_count": null,
   "metadata": {},
   "outputs": [],
   "source": [
    "notflee_sample = vdf.loc[(vdf['flee']=='Not fleeing')]\n",
    "notflee_sample"
   ]
  },
  {
   "cell_type": "code",
   "execution_count": null,
   "metadata": {},
   "outputs": [],
   "source": [
    "notflee_sample1 = notflee_sample['flee'].sample(frac=0.2)\n",
    "notflee_sample1.shape"
   ]
  },
  {
   "cell_type": "code",
   "execution_count": null,
   "metadata": {},
   "outputs": [],
   "source": [
    "#we will use the ranksum function from scipy to compare the counts of the different dataframes\n",
    "#we use the valuecounts function in order to compare the occurences of the different races\n",
    "from scipy.stats import ranksums\n",
    "(t_stat, p) = ranksums(flee_sample1.value_counts(), notflee_sample1.value_counts())"
   ]
  },
  {
   "cell_type": "code",
   "execution_count": null,
   "metadata": {},
   "outputs": [],
   "source": [
    "#Lets get the statistic and p value figures\n",
    "\n",
    "print('Statistic=%.4f, pvalue=%.4f' % (t_stat, p))"
   ]
  },
  {
   "cell_type": "code",
   "execution_count": null,
   "metadata": {},
   "outputs": [],
   "source": [
    "alpha = 0.05\n",
    "if p <= alpha:\n",
    "\tprint('The two variances are significantly different')\n",
    "else:\n",
    "\tprint('The two variances are approximately equal')"
   ]
  },
  {
   "cell_type": "code",
   "execution_count": null,
   "metadata": {},
   "outputs": [],
   "source": [
    "# Conduct the independent Welch's t-test using scipy.stats, use the stats.ttest_ind() method\n",
    "#stat,p = stats.ttest_ind(white_sample['race'].value_counts(), minority_sample['race'].value_counts(), equal_var=False)\n",
    "\n",
    "print('Statistic=%.14f, pvalue=%.14f' % (t_stat, p))\n",
    "\n",
    "# Interpretation of the t-test results with 0.05 as the significance level\n",
    "alpha = 0.025 #since the test is two tailed\n",
    "if p <= alpha:\n",
    "\tprint('We reject the null hypothesis')\n",
    "else:\n",
    "\tprint('We fail to reject the null hypothesis')"
   ]
  },
  {
   "cell_type": "markdown",
   "metadata": {
    "id": "hG4R-QXmNUCW"
   },
   "source": [
    "# **9. Implementing the Solution**"
   ]
  },
  {
   "cell_type": "markdown",
   "metadata": {
    "id": "jjp1ejoNNm7a"
   },
   "source": [
    "##The findings"
   ]
  },
  {
   "cell_type": "markdown",
   "metadata": {
    "id": "A8TpQPhCNgAm"
   },
   "source": [
    "The data was skewed in the following ways:\n",
    "1. Majority of the data was mostly collected in the year\n",
    "2. Majority of the victims died through shooting\n",
    "3. Majority of the victims who were armed were armed with guns\n",
    "4. Majority of the victims were 25 year olds\n",
    "5. Majority of the victims are Male\n",
    "6. Majority of the victims are white\n",
    "7.  Majority of the shooting incidences happened in Los Angelos\n",
    "8. Most shooting incidences occured in California\n",
    "9. Majority of victims didn't show signs of mental illnesses \n",
    "10. Majority of the victims attacked the police officers\n",
    "11. Majority of the victims did not attempt to flee\n",
    "12. In majority of the incidences, Police did not have the body cameras on\n",
    "13. Majority of the armed victims had guns\n",
    "\n"
   ]
  },
  {
   "cell_type": "markdown",
   "metadata": {
    "id": "hFa0cbeFQeL1"
   },
   "source": [
    "##The Co - relations"
   ]
  },
  {
   "cell_type": "markdown",
   "metadata": {
    "id": "3-1mkUvILmM_"
   },
   "source": [
    "The strongest co-relations are\n",
    "\n",
    "1. Type Arm category and Armed\n",
    "2. Arm category and age\n",
    "3. Arm category and an attempt to flee\n",
    "4. Arm category and Manner of death\n",
    "5. Arms category and threat level\n",
    "6. Race and State location\n",
    "7. Armed and manner of death\n",
    "8. Armed and mental illness\n",
    "9. Armed and threat level\n",
    "10. Mental illness and arms category\n",
    "11. Mental illness and whether suspect was armed\n",
    "12. Mental illness and suspect attempting to flee\n",
    "13. Gender and their attempt to flee\n",
    "14. Body camera and state\n",
    "\n"
   ]
  },
  {
   "cell_type": "markdown",
   "metadata": {
    "id": "2Iqvg-lCKAv0"
   },
   "source": [
    "The weakest co-relations are\n",
    "1. Arms category and state\n",
    "2. Arms category and body camera\n",
    "3. Arms category and race\n",
    "4. Race and an attempt to flee\n",
    "5. Race and gender of victims\n",
    "6. Race and manner of death of victims\n",
    "7. Manner of death and Gender of victim\n",
    "8. Manner of death and Police body camera being on\n",
    "9. Whether vcitim was armed and state\n",
    "10. Whether victim was armed and gender\n",
    "11. Victim's mental health and manner of death\n",
    "12. Victim's mental health and gender\n",
    "13. Victim's mental health and Police body camera being on\n",
    "14. Gender and Manner of death\n",
    "15. Gender and Police body camera being on\n",
    "16. Gender and state where shooting occured\n",
    "17. Body camera being on and level of threat\n",
    "18. Attempt to flee and body camera being on\n",
    "19. Attempt to flee and victim's attempt to flee\n",
    "20. Level if threat and the victim's gendder\n"
   ]
  },
  {
   "cell_type": "markdown",
   "metadata": {
    "id": "DrZ-tT9oQlip"
   },
   "source": [
    "##The Recomendations"
   ]
  },
  {
   "cell_type": "markdown",
   "metadata": {
    "id": "QTQ26ODpQyF9"
   },
   "source": [
    "1. Banks should leverage on the high penetration of mobile phones across the region to increase the banked population\n",
    "2. Education and knowledge about money and banking should be increased. Possibly in the primary school curriculum - This is the common place to reach most of the population\n",
    "3. Farmers, self employed people and people in the informal sector should also be targeted by future marketing campaigns\n",
    "4. There is a great potential for growth of the formal banking sector\n",
    "5. Interestingly, the uptake of formal banking is equal both in rural and urban areas despite more of the skew being towards the rural population. Shows that marketing campaigns should focus their attention to the rural population."
   ]
  }
 ],
 "metadata": {
  "colab": {
   "collapsed_sections": [
    "JjMyGBIGoWLw",
    "8Xg2XcyPMijp",
    "j2mrGSNIMyCC",
    "lMnWZLmVM4oE",
    "9O-9MITedliL",
    "IKVUsF8P-CKq",
    "8C08FlQrZZ3h"
   ],
   "name": "US_POLICE SHOOTING.ipynb",
   "provenance": []
  },
  "kernelspec": {
   "display_name": "Python 3 (ipykernel)",
   "language": "python",
   "name": "python3"
  },
  "language_info": {
   "codemirror_mode": {
    "name": "ipython",
    "version": 3
   },
   "file_extension": ".py",
   "mimetype": "text/x-python",
   "name": "python",
   "nbconvert_exporter": "python",
   "pygments_lexer": "ipython3",
   "version": "3.8.7"
  }
 },
 "nbformat": 4,
 "nbformat_minor": 1
}
