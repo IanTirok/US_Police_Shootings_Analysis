{
 "cells": [
  {
   "cell_type": "markdown",
   "metadata": {
    "id": "1NskKIu5E3Wc"
   },
   "source": [
    "# Describing our Question"
   ]
  },
  {
   "cell_type": "markdown",
   "metadata": {
    "id": "BSQuF59dlYnu"
   },
   "source": [
    "**a) Understanding the context**\n",
    "\n",
    "The trend of fatal police shootings has been increasing since 2015. The rate of fatal police shootings in the United States shows a large difference based on ethnicity. This study therefore seeks  to investigate the main factors that influence police shootings in the United States  in order to  understand police decision making while conducting suspect arrest.\n",
    "\n",
    "\n",
    "**b) Specifying the Question**\n",
    "\n",
    "To investigate the main factors that influence police shootings in the United States  in order to  understand police decision making while conducting suspect arrest. \n",
    "\n",
    "\n",
    "**b) Defining the Metric of success**\n",
    "\n",
    "The analysis to be considered successful we shall provide insights on the factors that highly influence police shootings in the United States  and understand police decision making while conducting suspect arrest and correctly test our hypotheses.\n",
    "\n",
    "\n",
    "**d)  Recording the Expereimental Design**\n",
    "\n",
    "The following steps shall be followed:\n",
    "\n",
    "*   Defining the Question\n",
    "*   Reading the Data.\n",
    "*   Exploring the Data.\n",
    "*   Data Cleaning\n",
    "*   Exploratory Data analysis (Performing Univariate and Bivariate Analysis)\n",
    "*   Creating Visualizations.\n",
    "*   Hypothesis Testing.\n",
    "*  Summary"
   ]
  },
  {
   "cell_type": "markdown",
   "metadata": {
    "id": "CXjliVqQnTP6"
   },
   "source": [
    "#**1. DEFINING THE HYPOTHESIS**"
   ]
  },
  {
   "cell_type": "markdown",
   "metadata": {
    "id": "KJB3mU6_nexs"
   },
   "source": [
    "##1a. Overview\n"
   ]
  },
  {
   "cell_type": "markdown",
   "metadata": {
    "id": "uWLrJ3hy2fGi"
   },
   "source": [
    "\n",
    "Null hypothesis: Type null hypothesis here\n",
    "\n",
    "Alternative hypothesis: Type alt hyopthesis here\n",
    "\n",
    "Keys\n",
    "\n",
    "$H_{0}$ = Null hypothesis\n",
    "\n",
    "$H_{1}$ = Alternative hypothesis\n",
    "\n",
    "$mu_{1}$ = Type variable here (mean)\n",
    "\n",
    "$mu_{2}$ = Type variable here (mean)\n",
    "\n",
    "$H_{0}$: $mu_{1}$ = $mu_{2}$\n",
    "\n",
    "\n",
    "$H_{1}$: $mu_{1}$ ≠ $mu_{2}$"
   ]
  },
  {
   "cell_type": "markdown",
   "metadata": {
    "id": "E_BkTxl_nw_b"
   },
   "source": [
    "##1b. Research Question"
   ]
  },
  {
   "cell_type": "markdown",
   "metadata": {
    "id": "YfcXizg-2jma"
   },
   "source": [
    "1. What are  the main factors influencing police shootings?\n",
    "2. Are the police  biased towards certain individuals?\n",
    "3. How are police shootings distributed across different states and cities?\n"
   ]
  },
  {
   "cell_type": "markdown",
   "metadata": {
    "id": "JjMyGBIGoWLw"
   },
   "source": [
    "##1c. Sampling Strategy"
   ]
  },
  {
   "cell_type": "markdown",
   "metadata": {
    "id": "8Xg2XcyPMijp"
   },
   "source": [
    "###Sampling Plan"
   ]
  },
  {
   "cell_type": "markdown",
   "metadata": {
    "id": "j2mrGSNIMyCC"
   },
   "source": [
    "###Sampling Method"
   ]
  },
  {
   "cell_type": "markdown",
   "metadata": {
    "id": "lMnWZLmVM4oE"
   },
   "source": [
    "###Sample Size"
   ]
  },
  {
   "cell_type": "markdown",
   "metadata": {
    "id": "TQHKdf8Riavt"
   },
   "source": []
  },
  {
   "cell_type": "markdown",
   "metadata": {
    "id": "JkCn3IHM7Prb"
   },
   "source": [
    "# **2. IMPORTING LIBRARIES**\n",
    "\n",
    "\n"
   ]
  },
  {
   "cell_type": "code",
   "execution_count": 2,
   "metadata": {
    "id": "oE_1yQq64t5y"
   },
   "outputs": [],
   "source": [
    "# import pandas\n",
    "\n",
    "import pandas as pd\n",
    "\n",
    "# import numpy\n",
    "\n",
    "import numpy as np\n",
    "\n",
    "# import datetime\n",
    "\n",
    "import datetime\n",
    "\n",
    "# import seaborn\n",
    "\n",
    "import seaborn as sns\n",
    "\n",
    "# import matplotlib\n",
    "\n",
    "import matplotlib.pyplot as plt\n",
    "%matplotlib notebook\n",
    "\n",
    "\n",
    "\n",
    "# immport scipy\n",
    "\n",
    "import scipy.stats as stats\n",
    "\n",
    "#import math\n",
    "\n",
    "from math import sqrt\n",
    "\n",
    "#import ttest\n",
    "from scipy.stats import ttest_ind\n",
    "\n",
    "from scipy.stats import t\n",
    "\n",
    "from sklearn.preprocessing import LabelEncoder\n",
    "\n"
   ]
  },
  {
   "cell_type": "markdown",
   "metadata": {
    "id": "XLi659rt9FrO"
   },
   "source": [
    "# **3. LOADING OUR DATASETS**"
   ]
  },
  {
   "cell_type": "code",
   "execution_count": 3,
   "metadata": {
    "id": "8_GccHdY9M48"
   },
   "outputs": [
    {
     "ename": "FileNotFoundError",
     "evalue": "[Errno 2] File /content/Us_shootings.csv does not exist: '/content/Us_shootings.csv'",
     "output_type": "error",
     "traceback": [
      "\u001b[1;31m---------------------------------------------------------------------------\u001b[0m",
      "\u001b[1;31mFileNotFoundError\u001b[0m                         Traceback (most recent call last)",
      "\u001b[1;32m<ipython-input-3-dba915915de2>\u001b[0m in \u001b[0;36m<module>\u001b[1;34m\u001b[0m\n\u001b[0;32m      1\u001b[0m \u001b[1;31m#loading our dataset\u001b[0m\u001b[1;33m\u001b[0m\u001b[1;33m\u001b[0m\u001b[1;33m\u001b[0m\u001b[0m\n\u001b[0;32m      2\u001b[0m \u001b[0murl\u001b[0m \u001b[1;33m=\u001b[0m \u001b[1;34m'/content/Us_shootings.csv'\u001b[0m\u001b[1;33m\u001b[0m\u001b[1;33m\u001b[0m\u001b[0m\n\u001b[1;32m----> 3\u001b[1;33m \u001b[0mdf\u001b[0m \u001b[1;33m=\u001b[0m \u001b[0mpd\u001b[0m\u001b[1;33m.\u001b[0m\u001b[0mread_csv\u001b[0m\u001b[1;33m(\u001b[0m\u001b[0murl\u001b[0m\u001b[1;33m)\u001b[0m\u001b[1;33m\u001b[0m\u001b[1;33m\u001b[0m\u001b[0m\n\u001b[0m",
      "\u001b[1;32m~\\anaconda3\\lib\\site-packages\\pandas\\io\\parsers.py\u001b[0m in \u001b[0;36mparser_f\u001b[1;34m(filepath_or_buffer, sep, delimiter, header, names, index_col, usecols, squeeze, prefix, mangle_dupe_cols, dtype, engine, converters, true_values, false_values, skipinitialspace, skiprows, skipfooter, nrows, na_values, keep_default_na, na_filter, verbose, skip_blank_lines, parse_dates, infer_datetime_format, keep_date_col, date_parser, dayfirst, cache_dates, iterator, chunksize, compression, thousands, decimal, lineterminator, quotechar, quoting, doublequote, escapechar, comment, encoding, dialect, error_bad_lines, warn_bad_lines, delim_whitespace, low_memory, memory_map, float_precision)\u001b[0m\n\u001b[0;32m    674\u001b[0m         )\n\u001b[0;32m    675\u001b[0m \u001b[1;33m\u001b[0m\u001b[0m\n\u001b[1;32m--> 676\u001b[1;33m         \u001b[1;32mreturn\u001b[0m \u001b[0m_read\u001b[0m\u001b[1;33m(\u001b[0m\u001b[0mfilepath_or_buffer\u001b[0m\u001b[1;33m,\u001b[0m \u001b[0mkwds\u001b[0m\u001b[1;33m)\u001b[0m\u001b[1;33m\u001b[0m\u001b[1;33m\u001b[0m\u001b[0m\n\u001b[0m\u001b[0;32m    677\u001b[0m \u001b[1;33m\u001b[0m\u001b[0m\n\u001b[0;32m    678\u001b[0m     \u001b[0mparser_f\u001b[0m\u001b[1;33m.\u001b[0m\u001b[0m__name__\u001b[0m \u001b[1;33m=\u001b[0m \u001b[0mname\u001b[0m\u001b[1;33m\u001b[0m\u001b[1;33m\u001b[0m\u001b[0m\n",
      "\u001b[1;32m~\\anaconda3\\lib\\site-packages\\pandas\\io\\parsers.py\u001b[0m in \u001b[0;36m_read\u001b[1;34m(filepath_or_buffer, kwds)\u001b[0m\n\u001b[0;32m    446\u001b[0m \u001b[1;33m\u001b[0m\u001b[0m\n\u001b[0;32m    447\u001b[0m     \u001b[1;31m# Create the parser.\u001b[0m\u001b[1;33m\u001b[0m\u001b[1;33m\u001b[0m\u001b[1;33m\u001b[0m\u001b[0m\n\u001b[1;32m--> 448\u001b[1;33m     \u001b[0mparser\u001b[0m \u001b[1;33m=\u001b[0m \u001b[0mTextFileReader\u001b[0m\u001b[1;33m(\u001b[0m\u001b[0mfp_or_buf\u001b[0m\u001b[1;33m,\u001b[0m \u001b[1;33m**\u001b[0m\u001b[0mkwds\u001b[0m\u001b[1;33m)\u001b[0m\u001b[1;33m\u001b[0m\u001b[1;33m\u001b[0m\u001b[0m\n\u001b[0m\u001b[0;32m    449\u001b[0m \u001b[1;33m\u001b[0m\u001b[0m\n\u001b[0;32m    450\u001b[0m     \u001b[1;32mif\u001b[0m \u001b[0mchunksize\u001b[0m \u001b[1;32mor\u001b[0m \u001b[0miterator\u001b[0m\u001b[1;33m:\u001b[0m\u001b[1;33m\u001b[0m\u001b[1;33m\u001b[0m\u001b[0m\n",
      "\u001b[1;32m~\\anaconda3\\lib\\site-packages\\pandas\\io\\parsers.py\u001b[0m in \u001b[0;36m__init__\u001b[1;34m(self, f, engine, **kwds)\u001b[0m\n\u001b[0;32m    878\u001b[0m             \u001b[0mself\u001b[0m\u001b[1;33m.\u001b[0m\u001b[0moptions\u001b[0m\u001b[1;33m[\u001b[0m\u001b[1;34m\"has_index_names\"\u001b[0m\u001b[1;33m]\u001b[0m \u001b[1;33m=\u001b[0m \u001b[0mkwds\u001b[0m\u001b[1;33m[\u001b[0m\u001b[1;34m\"has_index_names\"\u001b[0m\u001b[1;33m]\u001b[0m\u001b[1;33m\u001b[0m\u001b[1;33m\u001b[0m\u001b[0m\n\u001b[0;32m    879\u001b[0m \u001b[1;33m\u001b[0m\u001b[0m\n\u001b[1;32m--> 880\u001b[1;33m         \u001b[0mself\u001b[0m\u001b[1;33m.\u001b[0m\u001b[0m_make_engine\u001b[0m\u001b[1;33m(\u001b[0m\u001b[0mself\u001b[0m\u001b[1;33m.\u001b[0m\u001b[0mengine\u001b[0m\u001b[1;33m)\u001b[0m\u001b[1;33m\u001b[0m\u001b[1;33m\u001b[0m\u001b[0m\n\u001b[0m\u001b[0;32m    881\u001b[0m \u001b[1;33m\u001b[0m\u001b[0m\n\u001b[0;32m    882\u001b[0m     \u001b[1;32mdef\u001b[0m \u001b[0mclose\u001b[0m\u001b[1;33m(\u001b[0m\u001b[0mself\u001b[0m\u001b[1;33m)\u001b[0m\u001b[1;33m:\u001b[0m\u001b[1;33m\u001b[0m\u001b[1;33m\u001b[0m\u001b[0m\n",
      "\u001b[1;32m~\\anaconda3\\lib\\site-packages\\pandas\\io\\parsers.py\u001b[0m in \u001b[0;36m_make_engine\u001b[1;34m(self, engine)\u001b[0m\n\u001b[0;32m   1112\u001b[0m     \u001b[1;32mdef\u001b[0m \u001b[0m_make_engine\u001b[0m\u001b[1;33m(\u001b[0m\u001b[0mself\u001b[0m\u001b[1;33m,\u001b[0m \u001b[0mengine\u001b[0m\u001b[1;33m=\u001b[0m\u001b[1;34m\"c\"\u001b[0m\u001b[1;33m)\u001b[0m\u001b[1;33m:\u001b[0m\u001b[1;33m\u001b[0m\u001b[1;33m\u001b[0m\u001b[0m\n\u001b[0;32m   1113\u001b[0m         \u001b[1;32mif\u001b[0m \u001b[0mengine\u001b[0m \u001b[1;33m==\u001b[0m \u001b[1;34m\"c\"\u001b[0m\u001b[1;33m:\u001b[0m\u001b[1;33m\u001b[0m\u001b[1;33m\u001b[0m\u001b[0m\n\u001b[1;32m-> 1114\u001b[1;33m             \u001b[0mself\u001b[0m\u001b[1;33m.\u001b[0m\u001b[0m_engine\u001b[0m \u001b[1;33m=\u001b[0m \u001b[0mCParserWrapper\u001b[0m\u001b[1;33m(\u001b[0m\u001b[0mself\u001b[0m\u001b[1;33m.\u001b[0m\u001b[0mf\u001b[0m\u001b[1;33m,\u001b[0m \u001b[1;33m**\u001b[0m\u001b[0mself\u001b[0m\u001b[1;33m.\u001b[0m\u001b[0moptions\u001b[0m\u001b[1;33m)\u001b[0m\u001b[1;33m\u001b[0m\u001b[1;33m\u001b[0m\u001b[0m\n\u001b[0m\u001b[0;32m   1115\u001b[0m         \u001b[1;32melse\u001b[0m\u001b[1;33m:\u001b[0m\u001b[1;33m\u001b[0m\u001b[1;33m\u001b[0m\u001b[0m\n\u001b[0;32m   1116\u001b[0m             \u001b[1;32mif\u001b[0m \u001b[0mengine\u001b[0m \u001b[1;33m==\u001b[0m \u001b[1;34m\"python\"\u001b[0m\u001b[1;33m:\u001b[0m\u001b[1;33m\u001b[0m\u001b[1;33m\u001b[0m\u001b[0m\n",
      "\u001b[1;32m~\\anaconda3\\lib\\site-packages\\pandas\\io\\parsers.py\u001b[0m in \u001b[0;36m__init__\u001b[1;34m(self, src, **kwds)\u001b[0m\n\u001b[0;32m   1889\u001b[0m         \u001b[0mkwds\u001b[0m\u001b[1;33m[\u001b[0m\u001b[1;34m\"usecols\"\u001b[0m\u001b[1;33m]\u001b[0m \u001b[1;33m=\u001b[0m \u001b[0mself\u001b[0m\u001b[1;33m.\u001b[0m\u001b[0musecols\u001b[0m\u001b[1;33m\u001b[0m\u001b[1;33m\u001b[0m\u001b[0m\n\u001b[0;32m   1890\u001b[0m \u001b[1;33m\u001b[0m\u001b[0m\n\u001b[1;32m-> 1891\u001b[1;33m         \u001b[0mself\u001b[0m\u001b[1;33m.\u001b[0m\u001b[0m_reader\u001b[0m \u001b[1;33m=\u001b[0m \u001b[0mparsers\u001b[0m\u001b[1;33m.\u001b[0m\u001b[0mTextReader\u001b[0m\u001b[1;33m(\u001b[0m\u001b[0msrc\u001b[0m\u001b[1;33m,\u001b[0m \u001b[1;33m**\u001b[0m\u001b[0mkwds\u001b[0m\u001b[1;33m)\u001b[0m\u001b[1;33m\u001b[0m\u001b[1;33m\u001b[0m\u001b[0m\n\u001b[0m\u001b[0;32m   1892\u001b[0m         \u001b[0mself\u001b[0m\u001b[1;33m.\u001b[0m\u001b[0munnamed_cols\u001b[0m \u001b[1;33m=\u001b[0m \u001b[0mself\u001b[0m\u001b[1;33m.\u001b[0m\u001b[0m_reader\u001b[0m\u001b[1;33m.\u001b[0m\u001b[0munnamed_cols\u001b[0m\u001b[1;33m\u001b[0m\u001b[1;33m\u001b[0m\u001b[0m\n\u001b[0;32m   1893\u001b[0m \u001b[1;33m\u001b[0m\u001b[0m\n",
      "\u001b[1;32mpandas\\_libs\\parsers.pyx\u001b[0m in \u001b[0;36mpandas._libs.parsers.TextReader.__cinit__\u001b[1;34m()\u001b[0m\n",
      "\u001b[1;32mpandas\\_libs\\parsers.pyx\u001b[0m in \u001b[0;36mpandas._libs.parsers.TextReader._setup_parser_source\u001b[1;34m()\u001b[0m\n",
      "\u001b[1;31mFileNotFoundError\u001b[0m: [Errno 2] File /content/Us_shootings.csv does not exist: '/content/Us_shootings.csv'"
     ]
    }
   ],
   "source": [
    "#loading our dataset\n",
    "url = '/content/Us_shootings.csv'\n",
    "df = pd.read_csv(url)\n"
   ]
  },
  {
   "cell_type": "code",
   "execution_count": null,
   "metadata": {
    "colab": {
     "base_uri": "https://localhost:8080/",
     "height": 307
    },
    "id": "UrUATHi4Ak3i",
    "outputId": "1d157cca-35c3-4986-ac6e-b3d3d57a6c67"
   },
   "outputs": [],
   "source": [
    "#previewing the top\n",
    "df.head()"
   ]
  },
  {
   "cell_type": "code",
   "execution_count": null,
   "metadata": {
    "colab": {
     "base_uri": "https://localhost:8080/",
     "height": 307
    },
    "id": "nVgu1fpiAss9",
    "outputId": "e3ee8f06-0df4-4a85-f695-1fe469aa1be5"
   },
   "outputs": [],
   "source": [
    "#previewing the bottom\n",
    "df.tail()"
   ]
  },
  {
   "cell_type": "code",
   "execution_count": null,
   "metadata": {
    "colab": {
     "base_uri": "https://localhost:8080/",
     "height": 324
    },
    "id": "0n2Z_MmLAvbq",
    "outputId": "9b85eb0b-11df-4723-e46f-9046a5215a1a"
   },
   "outputs": [],
   "source": [
    "#previewing random sample of 5 records\n",
    "df.sample(5)"
   ]
  },
  {
   "cell_type": "markdown",
   "metadata": {
    "id": "kjqX9tSDTF83"
   },
   "source": [
    "# **4. GETTING MORE INFORMATION ABOUT OUR DATASET**. "
   ]
  },
  {
   "cell_type": "code",
   "execution_count": null,
   "metadata": {
    "colab": {
     "base_uri": "https://localhost:8080/"
    },
    "id": "r4-Qy_iFBFri",
    "outputId": "138b5136-1fe8-40e8-c223-bd70a3e876ac"
   },
   "outputs": [],
   "source": [
    "#getting the shape of our dataset\n",
    "df.shape"
   ]
  },
  {
   "cell_type": "code",
   "execution_count": null,
   "metadata": {
    "colab": {
     "base_uri": "https://localhost:8080/"
    },
    "id": "cJG4EkL29p8v",
    "outputId": "f36875cb-13c3-4405-c204-ffea50438bcc"
   },
   "outputs": [],
   "source": [
    "#getting information about our dataset\n",
    "df.info()"
   ]
  },
  {
   "cell_type": "code",
   "execution_count": null,
   "metadata": {
    "colab": {
     "base_uri": "https://localhost:8080/",
     "height": 295
    },
    "id": "ccaGxpyAZUdd",
    "outputId": "0a61ab56-4f4d-4213-dfc6-8ec64a0afc17"
   },
   "outputs": [],
   "source": [
    "#finding out parameters of our dataset\n",
    "df.describe()"
   ]
  },
  {
   "cell_type": "code",
   "execution_count": null,
   "metadata": {
    "colab": {
     "base_uri": "https://localhost:8080/"
    },
    "id": "lMyW2S5gZmI8",
    "outputId": "912d4412-a25d-4d86-f148-49d4a2a56d1c"
   },
   "outputs": [],
   "source": [
    "#find out unique values in each column\n",
    "df.nunique()"
   ]
  },
  {
   "cell_type": "markdown",
   "metadata": {
    "id": "aQEWI32mHoA0"
   },
   "source": [
    "# **5. CLEANING THE DATA**"
   ]
  },
  {
   "cell_type": "code",
   "execution_count": null,
   "metadata": {
    "id": "tuIRzQ8XlXx5"
   },
   "outputs": [],
   "source": [
    "#redifining our columns\n",
    "\n",
    "df.columns = df.columns.str.strip().str.lower().str.replace(' ', '_').str.replace('(', '').str.replace(')', '')"
   ]
  },
  {
   "cell_type": "code",
   "execution_count": null,
   "metadata": {
    "colab": {
     "base_uri": "https://localhost:8080/"
    },
    "id": "jHRoCDSnCFYr",
    "outputId": "5adf50df-03eb-4bf4-f257-144c1a07e614"
   },
   "outputs": [],
   "source": [
    "#Checking our renaming result\n",
    "df.columns"
   ]
  },
  {
   "cell_type": "code",
   "execution_count": null,
   "metadata": {
    "colab": {
     "base_uri": "https://localhost:8080/"
    },
    "id": "3UOs6mFAFl3F",
    "outputId": "2d7f7f0a-39c6-447e-c934-09e0b17cbed5"
   },
   "outputs": [],
   "source": [
    "#finding out how many duplicate rows are in our dataset\n",
    "\n",
    "len(df)-len(df.drop_duplicates())\n",
    "\n",
    "#there are no duplicates"
   ]
  },
  {
   "cell_type": "code",
   "execution_count": null,
   "metadata": {
    "colab": {
     "base_uri": "https://localhost:8080/"
    },
    "id": "twflRHTnelID",
    "outputId": "6a5cade3-9c04-412b-a960-7c4b85f4fb8b"
   },
   "outputs": [],
   "source": [
    "#check for null values if any\n",
    "df.isnull().sum()\n",
    "\n",
    "#there are no null values in our dataset"
   ]
  },
  {
   "cell_type": "code",
   "execution_count": null,
   "metadata": {
    "colab": {
     "base_uri": "https://localhost:8080/",
     "height": 333
    },
    "id": "qKgwUyV0fIU_",
    "outputId": "a55f18b8-ef31-457c-bb35-0800a5f5e820"
   },
   "outputs": [],
   "source": [
    "# Checking for Outliers & Anomalies in the age column as it is our only numerical column\n",
    "sns.boxplot(df['age'])\n",
    "  \n",
    "plt.show()"
   ]
  },
  {
   "cell_type": "markdown",
   "metadata": {
    "id": "c5InP62fGyzG"
   },
   "source": [
    "We decided to keep our outliers because we saw that the data will be useful in our analysis when analysing about age."
   ]
  },
  {
   "cell_type": "markdown",
   "metadata": {
    "id": "67CHlpUkJx8h"
   },
   "source": [
    "**Anomilies**"
   ]
  },
  {
   "cell_type": "code",
   "execution_count": null,
   "metadata": {
    "colab": {
     "base_uri": "https://localhost:8080/"
    },
    "id": "IbTryzPT4ULI",
    "outputId": "62130fc4-08fd-4bb9-8af4-51851d09a059"
   },
   "outputs": [],
   "source": [
    "#Selecting the categorical columns\n",
    "cat_cols = df.select_dtypes(include ='object').columns.to_list()\n",
    "cat_cols\n",
    "\n",
    "\n",
    "# Check for unique values in each column\n",
    "for col in cat_cols:\n",
    "  print(f'{col} column unique values: \\n')\n",
    "  print(df[col].unique(), end='\\n')\n",
    "  print('...........')\n",
    "  print('\\n')"
   ]
  },
  {
   "cell_type": "code",
   "execution_count": null,
   "metadata": {
    "id": "8G6YgFuH9ERj"
   },
   "outputs": [],
   "source": [
    "#convert date column to datetime\n",
    "\n",
    "df['date'] = pd.to_datetime(df['date'])"
   ]
  },
  {
   "cell_type": "code",
   "execution_count": null,
   "metadata": {
    "colab": {
     "base_uri": "https://localhost:8080/"
    },
    "id": "0UgVpnDx9mdT",
    "outputId": "d727927c-37b4-4ac2-dca0-ebbc5f19da2d"
   },
   "outputs": [],
   "source": [
    "#Check if data was corrected\n",
    "df.info()"
   ]
  },
  {
   "cell_type": "markdown",
   "metadata": {
    "id": "ocBjOS7_giq-"
   },
   "source": [
    "from the output our data seems clean, no null values and no duplicates, no outliers and we have standard names for all columns"
   ]
  },
  {
   "cell_type": "markdown",
   "metadata": {
    "id": "APXXOnfpk1LQ"
   },
   "source": [
    "# **6. EXPORT CLEAN DATA**"
   ]
  },
  {
   "cell_type": "code",
   "execution_count": null,
   "metadata": {
    "id": "w6HxA_3QmYP8"
   },
   "outputs": [],
   "source": [
    "#saving the cleaned dataset\n",
    "df = df.to_csv('us_police_shooting.csv')\n",
    "\n",
    "#df = df_sample.to_excel('name.xlsx')\n"
   ]
  },
  {
   "cell_type": "code",
   "execution_count": null,
   "metadata": {
    "id": "dFmg2eV_-y49"
   },
   "outputs": [],
   "source": [
    "#loading the saved clean dataset\n",
    "df = pd.read_csv('/content/us_police_shooting.csv')\n",
    "# df = df.set_index('id')\n",
    "df.drop(['Unnamed: 0'],axis=1,inplace = True)\n"
   ]
  },
  {
   "cell_type": "code",
   "execution_count": null,
   "metadata": {
    "id": "FAKE7tmaEd8D"
   },
   "outputs": [],
   "source": []
  },
  {
   "cell_type": "markdown",
   "metadata": {
    "id": "rF2ABPsHUtbZ"
   },
   "source": [
    "# **7. Exploratory Analysis**"
   ]
  },
  {
   "cell_type": "markdown",
   "metadata": {
    "id": "D8B80V2uISVI"
   },
   "source": [
    "## a) Univariate Analysis"
   ]
  },
  {
   "cell_type": "markdown",
   "metadata": {
    "id": "W5ujhTq5ZmUa"
   },
   "source": [
    "### ***Measures of Central Tendency***"
   ]
  },
  {
   "cell_type": "code",
   "execution_count": null,
   "metadata": {
    "colab": {
     "base_uri": "https://localhost:8080/",
     "height": 425
    },
    "id": "vXtZLkr_LFO5",
    "outputId": "7a5c6489-bb0c-42a4-b6f3-7a38156cdf25"
   },
   "outputs": [],
   "source": [
    "#getting summary\n",
    "df.describe(include='all')"
   ]
  },
  {
   "cell_type": "code",
   "execution_count": null,
   "metadata": {
    "colab": {
     "base_uri": "https://localhost:8080/",
     "height": 117
    },
    "id": "5nnRToniXGDK",
    "outputId": "67954fad-c3ff-485b-da8b-6d94ba7e482b"
   },
   "outputs": [],
   "source": [
    "# Mode\n",
    "# Calculating mode across different columns\n",
    "\n",
    "df[['id', 'name', 'date', 'manner_of_death', 'armed', 'age', 'gender',\n",
    "       'race', 'city', 'state', 'signs_of_mental_illness', 'threat_level',\n",
    "       'flee', 'body_camera', 'arms_category']].mode().head(1)"
   ]
  },
  {
   "cell_type": "code",
   "execution_count": null,
   "metadata": {
    "colab": {
     "base_uri": "https://localhost:8080/",
     "height": 511
    },
    "id": "o-mbgUa40DBp",
    "outputId": "cb93d369-031b-4669-ab10-80dbc421928c"
   },
   "outputs": [],
   "source": [
    "modedf =pd.DataFrame()\n",
    "modedf\n",
    "\n",
    "data = {'Criteria': ['id', 'name', 'date', 'manner_of_death', 'armed', 'age', 'gender',\n",
    "       'race', 'city', 'state', 'signs_of_mental_illness', 'threat_level',\n",
    "       'flee', 'body_camera', 'arms_category'], \n",
    "       'The most appearing record': ['3','TK','2018-01-06','shot','gun','25','Male','White','Los Angelos','CA','False','attack','Not Fleeing','False','Guns']} \n",
    "modedf =pd.DataFrame(data)\n",
    "modedf"
   ]
  },
  {
   "cell_type": "code",
   "execution_count": null,
   "metadata": {
    "colab": {
     "base_uri": "https://localhost:8080/"
    },
    "id": "yVIQtLJmuhtV",
    "outputId": "7a8d2134-1b67-4499-ca69-5bb1b8f9f99e"
   },
   "outputs": [],
   "source": [
    "# Mean\n",
    "# Calculating the mean for our numerical columns\n",
    "df[['age']].mean(axis=0)"
   ]
  },
  {
   "cell_type": "markdown",
   "metadata": {
    "id": "vfxxOlpZvYiP"
   },
   "source": [
    "> The average age of people who were shot is   37"
   ]
  },
  {
   "cell_type": "code",
   "execution_count": null,
   "metadata": {
    "colab": {
     "base_uri": "https://localhost:8080/"
    },
    "id": "hWZCYQsquovL",
    "outputId": "44a10d2e-4216-484e-f33c-fce20a2691fa"
   },
   "outputs": [],
   "source": [
    "# Median\n",
    "# Calculating the median for our numerical columns\n",
    "\n",
    "df[['age']].median(axis=0)"
   ]
  },
  {
   "cell_type": "markdown",
   "metadata": {
    "id": "lm_KIYIKvxE7"
   },
   "source": [
    "> The median age of people who were shot is 35"
   ]
  },
  {
   "cell_type": "markdown",
   "metadata": {
    "id": "9O-9MITedliL"
   },
   "source": [
    "### ***Measures of Dispersion***"
   ]
  },
  {
   "cell_type": "code",
   "execution_count": null,
   "metadata": {
    "colab": {
     "base_uri": "https://localhost:8080/"
    },
    "id": "skPW_H46wS7c",
    "outputId": "0f14895f-4964-4d3c-f1c5-d7fa7731699a"
   },
   "outputs": [],
   "source": [
    "# Standard Deviation & Variance\n",
    "# We will now calculate the standard deviation and variance to check the spread of our data from the mean\n",
    "range1 = df['age'].max() - df['age'].min()\n",
    "\n",
    "std = df['age'].std()\n",
    "var = df['age'].var()\n",
    "print('Range: \"Age\" ', range1) \n",
    "print('Std deviation:', std)\n",
    "print('Variance:', var)"
   ]
  },
  {
   "cell_type": "markdown",
   "metadata": {
    "id": "b1YSJtTvcQrr"
   },
   "source": [
    "column has a high standard deviation and variance, showing that they're both spread over a wide range as evidenced by the ranges"
   ]
  },
  {
   "cell_type": "code",
   "execution_count": null,
   "metadata": {
    "colab": {
     "base_uri": "https://localhost:8080/"
    },
    "id": "RAaNLhEDuseu",
    "outputId": "a29fb178-8cf5-4de4-ff6a-5de94b4d1915"
   },
   "outputs": [],
   "source": [
    "# Skewness\n",
    "# We will now calculate the skewness to check the assymetry of the distribution\n",
    "df['age'].skew()"
   ]
  },
  {
   "cell_type": "markdown",
   "metadata": {
    "id": "c5f3NMXawARn"
   },
   "source": [
    "> Our age column is positively skewed, indicating that the tail is bigger on the left side"
   ]
  },
  {
   "cell_type": "code",
   "execution_count": null,
   "metadata": {
    "colab": {
     "base_uri": "https://localhost:8080/"
    },
    "id": "hbJjD44PutyA",
    "outputId": "0999e453-7a22-4951-af5e-c40e54c3e653"
   },
   "outputs": [],
   "source": [
    "# Kurtosis\n",
    "# We will now calculate the kurtosis to check the tail of our distribution\n",
    "df['age'].kurt()"
   ]
  },
  {
   "cell_type": "markdown",
   "metadata": {
    "id": "b--AXvx57ijj"
   },
   "source": [
    "Low kurtosis exhibit tail data that are generally less extreme than the tails of the normal distribution. This indicates that we have a platykurtic distribution\n"
   ]
  },
  {
   "cell_type": "code",
   "execution_count": null,
   "metadata": {
    "colab": {
     "base_uri": "https://localhost:8080/",
     "height": 329
    },
    "id": "LVvV5IMLL6Hs",
    "outputId": "b03a6c70-9450-47ce-b04d-733be807926f"
   },
   "outputs": [],
   "source": [
    "print('Skewness:',df['age'].skew())\n",
    "print(\"Kurtosis:\",df['age'].kurt())\n",
    "plt.hist(df['age'], bins=5)\n",
    "plt.title('Histogram of Age distibution')\n",
    "plt.xlabel('Age')\n",
    "plt.ylabel('Frequency')\n",
    "plt.show()"
   ]
  },
  {
   "cell_type": "code",
   "execution_count": null,
   "metadata": {
    "id": "VXK6xuj1gW1R"
   },
   "outputs": [],
   "source": []
  },
  {
   "cell_type": "code",
   "execution_count": null,
   "metadata": {
    "id": "6nI4rElwYuPD"
   },
   "outputs": [],
   "source": [
    "# Creating a subset with first strata sample data\n",
    "\n",
    "#one_sample =  df_sample.loc[df2_sample['column name']==row value] \n",
    "\n",
    "#Creating a subset with second strata sample data\n",
    "#two_sample =  df_sample.loc[df2_sample['column name']==row value] \n",
    "\n",
    "#one_sample.head()\n",
    "#two_sample.head()"
   ]
  },
  {
   "cell_type": "code",
   "execution_count": null,
   "metadata": {
    "id": "S4ORfXDQZBS0"
   },
   "outputs": [],
   "source": [
    "#df_sample.columns"
   ]
  },
  {
   "cell_type": "code",
   "execution_count": null,
   "metadata": {
    "id": "dYjyO6lWLD-m"
   },
   "outputs": [],
   "source": [
    "# Creating a stratified random sample by grouping the dataset by variable a/ variable b\n",
    "# Then extracting sample units from each group\n",
    "# The sample size is calculated with 0.05 as the margin of error, and 95% as the confidence level \n",
    "\n",
    "#df_sample = df.groupby('column name', group_keys=False).apply(lambda x : x.sample(replace='False', frac=((4895/(1+4895*(0.05**2)))/10024)))\n",
    "\n",
    "# Print the number of sample units from each strata\n",
    "#print(df_sample['column name'].value_counts())\n",
    "\n",
    "# Display some of the sample data \n",
    "#df_sample"
   ]
  },
  {
   "cell_type": "markdown",
   "metadata": {
    "id": "IKVUsF8P-CKq"
   },
   "source": [
    "##Univariate Plots"
   ]
  },
  {
   "cell_type": "code",
   "execution_count": null,
   "metadata": {
    "colab": {
     "base_uri": "https://localhost:8080/"
    },
    "id": "aw0-sbtQObgg",
    "outputId": "7c38ecaa-9d1f-4abb-c8b3-dbd347938506"
   },
   "outputs": [],
   "source": [
    "df.columns"
   ]
  },
  {
   "cell_type": "code",
   "execution_count": null,
   "metadata": {
    "id": "irnzHJN9NRgV"
   },
   "outputs": [],
   "source": [
    "# col=['armed',\n",
    "#        'gender', 'race', 'city', 'signs_of_mental_illness',\n",
    "#        'threat_level', 'flee', 'body_camera', 'arms_category']\n",
    "# fig, ax = plt.subplots(len(col), figsize=(5,10))\n",
    "# for i, col_val in enumerate(col()):\n",
    "#     sns.distplot(df[col_val], ax=ax[i], kde=True, color='blue')\n",
    "#     ax[i].set_title('Box plot - {}'.format(col_val))\n",
    "#     ax[i].set_xlabel(col_val)\n",
    "# plt.show()"
   ]
  },
  {
   "cell_type": "code",
   "execution_count": null,
   "metadata": {
    "colab": {
     "base_uri": "https://localhost:8080/",
     "height": 298
    },
    "id": "u9ziz_z19NfD",
    "outputId": "385f2978-147b-48e4-b355-e867aba79749"
   },
   "outputs": [],
   "source": [
    "#Visualization of race  \n",
    "df.groupby('race')['race'].count().sort_values(ascending=True).plot(title = 'Plot of races', kind = 'barh')"
   ]
  },
  {
   "cell_type": "code",
   "execution_count": null,
   "metadata": {
    "colab": {
     "base_uri": "https://localhost:8080/",
     "height": 264
    },
    "id": "b9kUU6MA_NyK",
    "outputId": "03f970b5-0247-4723-bb56-e41422c90158"
   },
   "outputs": [],
   "source": [
    "#Visualization of manner of death\n",
    "explode=(0,0.3)\n",
    "df.groupby('manner_of_death').manner_of_death.count().plot(title = 'Comparison of manner of death', \n",
    "                                                                  kind = 'pie',autopct='%1.1f%%', explode=explode);"
   ]
  },
  {
   "cell_type": "code",
   "execution_count": null,
   "metadata": {
    "colab": {
     "base_uri": "https://localhost:8080/",
     "height": 281
    },
    "id": "IS0L446GSwE6",
    "outputId": "27da37e4-980b-489a-f62d-befdc01db543"
   },
   "outputs": [],
   "source": [
    "#visulization of armed\n",
    "df['armed'].value_counts()\n",
    "df.groupby('armed')['armed'].count().sort_values(ascending=False).head().plot(title = 'Arms carried by suspect', \n",
    "                                                                  kind = 'barh');"
   ]
  },
  {
   "cell_type": "code",
   "execution_count": null,
   "metadata": {
    "colab": {
     "base_uri": "https://localhost:8080/",
     "height": 281
    },
    "id": "6432f_mO_nEg",
    "outputId": "8d968495-a023-4ac5-a4f5-a1d3513749ac"
   },
   "outputs": [],
   "source": [
    "#gender distibution\n",
    "df.groupby('gender').gender.count().plot(title = 'Distribution of the genders of victims', kind = 'pie',autopct='%1.1f%%')"
   ]
  },
  {
   "cell_type": "code",
   "execution_count": null,
   "metadata": {
    "colab": {
     "base_uri": "https://localhost:8080/",
     "height": 328
    },
    "id": "ziiT7ny8_1T8",
    "outputId": "622fb72f-5d00-42ae-a5f2-770dd89ebfac"
   },
   "outputs": [],
   "source": [
    "#Plot of mental status\n",
    "df.groupby('signs_of_mental_illness').signs_of_mental_illness.count().plot(title = 'Did victims seem mentally ill?', kind = 'bar')"
   ]
  },
  {
   "cell_type": "code",
   "execution_count": null,
   "metadata": {
    "colab": {
     "base_uri": "https://localhost:8080/",
     "height": 374
    },
    "id": "X9YskqidAErC",
    "outputId": "de139c98-9362-44fa-d878-9c9b45a7f53a"
   },
   "outputs": [],
   "source": [
    "#plotting threat level bar\n",
    "df.groupby('threat_level').threat_level.count().plot(title = 'What level of threat did the victims present?', kind = 'bar')"
   ]
  },
  {
   "cell_type": "code",
   "execution_count": null,
   "metadata": {
    "colab": {
     "base_uri": "https://localhost:8080/",
     "height": 357
    },
    "id": "MrNjDJviAU61",
    "outputId": "a6f14fdb-b47f-4561-a9ce-b9ed4b6d5bcd"
   },
   "outputs": [],
   "source": [
    "\n",
    "#Visulazation of flee\n",
    "df.groupby('flee').flee.count().sort_values(ascending=False).plot(title = 'What distribution of the victims attempted to flee',\n",
    "                                                                  kind = 'bar', )\n",
    "plt.xticks(rotation=90)"
   ]
  },
  {
   "cell_type": "code",
   "execution_count": null,
   "metadata": {
    "colab": {
     "base_uri": "https://localhost:8080/",
     "height": 328
    },
    "id": "yxALpS8LAihd",
    "outputId": "1ad5334d-663a-479f-be90-de84c79b71d2"
   },
   "outputs": [],
   "source": [
    "#visualizing the body camera information \n",
    "df.groupby('body_camera').body_camera.count().plot(title = 'What distribution of the incidents did police have body cams on?', kind = 'bar')"
   ]
  },
  {
   "cell_type": "code",
   "execution_count": null,
   "metadata": {
    "id": "_eE9Wak4_Rrg"
   },
   "outputs": [],
   "source": []
  },
  {
   "cell_type": "markdown",
   "metadata": {
    "id": "XEIDN19M_SIW"
   },
   "source": [
    "##Bivariate Plots"
   ]
  },
  {
   "cell_type": "code",
   "execution_count": null,
   "metadata": {
    "colab": {
     "base_uri": "https://localhost:8080/",
     "height": 394
    },
    "id": "LaXnbpLX_SIX",
    "outputId": "356d6174-3bfc-41aa-b972-3e0d4b22db04"
   },
   "outputs": [],
   "source": [
    "#Calculating the correlation\n",
    "corr = df.corr()\n",
    "plt.figure()\n",
    "sns.heatmap(corr, xticklabels=corr.columns, yticklabels=corr.columns, annot=True)\n",
    "plt.title('Heatmap showing Correlation of the Numerical Columns', fontsize = 20)\n",
    "plt.show()"
   ]
  },
  {
   "cell_type": "code",
   "execution_count": null,
   "metadata": {
    "colab": {
     "base_uri": "https://localhost:8080/",
     "height": 569
    },
    "id": "NTyJALn8_SIX",
    "outputId": "5e6f571a-6f72-4670-8ce7-f7a5efbe9275"
   },
   "outputs": [],
   "source": [
    "#Plotting our bar graph \n",
    "df.groupby(['race','manner_of_death']).id.count().sort_values(ascending=False).unstack().plot(kind='bar',figsize=(12,8),stacked = True)\n",
    "\n",
    "# labels and title\n",
    "plt.title('Comparison of the manner of death depending on the race of victim',fontsize=16)\n",
    "plt.xlabel('What is the race of victim',fontsize=14)\n",
    "plt.ylabel('Number',fontsize=14)\n",
    "plt.legend(fontsize=10)"
   ]
  },
  {
   "cell_type": "code",
   "execution_count": null,
   "metadata": {
    "colab": {
     "base_uri": "https://localhost:8080/",
     "height": 611
    },
    "id": "NGDYMyGk_SIY",
    "outputId": "815cba55-db25-4502-f416-bd9dbd4d89d1"
   },
   "outputs": [],
   "source": [
    "#Plotting our bar graph \n",
    "df.groupby(['manner_of_death','signs_of_mental_illness']).id.count().unstack().plot(kind='bar',figsize=(12,8),stacked = True)\n",
    "\n",
    "# labels and title\n",
    "plt.title('Comparison of the manner of death depending on signs of mental illness',fontsize=16)\n",
    "plt.xlabel('Were there any signs of mental illness',fontsize=14)\n",
    "plt.ylabel('Number',fontsize=14)\n",
    "plt.legend(fontsize=10)"
   ]
  },
  {
   "cell_type": "code",
   "execution_count": null,
   "metadata": {
    "colab": {
     "base_uri": "https://localhost:8080/",
     "height": 611
    },
    "id": "ivTJP8c5_SIY",
    "outputId": "f47c8bbb-1253-47ae-865b-396e86347fa0"
   },
   "outputs": [],
   "source": [
    "#Plotting our bar graph \n",
    "df.groupby(['manner_of_death','threat_level']).id.count().unstack().plot(kind='bar',figsize=(12,8))\n",
    "\n",
    "# labels and title\n",
    "plt.title('Comparison of the manner of death depending on level of threat',fontsize=16)\n",
    "plt.xlabel('Level of threat',fontsize=14)\n",
    "plt.ylabel('Number',fontsize=14)\n",
    "plt.legend(fontsize=10)"
   ]
  },
  {
   "cell_type": "code",
   "execution_count": null,
   "metadata": {
    "colab": {
     "base_uri": "https://localhost:8080/",
     "height": 611
    },
    "id": "jO904hGp_SIZ",
    "outputId": "948334ed-69bb-4090-8b96-3a6098e256a1"
   },
   "outputs": [],
   "source": [
    "#Plotting our bar graph \n",
    "df.groupby(['manner_of_death','flee']).id.count().unstack().plot(kind='bar',figsize=(12,8))\n",
    "\n",
    "# labels and title\n",
    "plt.title('Comparison of whether fleeing of the suspect affected the manner of death',fontsize=16)\n",
    "plt.xlabel('How did the suspect flee',fontsize=14)\n",
    "plt.ylabel('Number',fontsize=14)\n",
    "plt.legend(fontsize=10)"
   ]
  },
  {
   "cell_type": "code",
   "execution_count": null,
   "metadata": {
    "colab": {
     "base_uri": "https://localhost:8080/",
     "height": 569
    },
    "id": "ymrMV8h1_SIa",
    "outputId": "ca78abb9-26f1-41b9-87c7-62a97d5cdd1e"
   },
   "outputs": [],
   "source": [
    "#Plotting our bar graph \n",
    "df.groupby(['race','gender']).id.count().sort_values(ascending=False).unstack().plot(kind='bar',figsize=(12,8), stacked = True) \n",
    "\n",
    "# labels and title\n",
    "plt.title('Correlaton between the victims gender to their race',fontsize=16)\n",
    "plt.xlabel('Race of victim',fontsize=14)\n",
    "plt.ylabel('Number',fontsize=14)\n",
    "plt.legend(fontsize=10)"
   ]
  },
  {
   "cell_type": "code",
   "execution_count": null,
   "metadata": {
    "colab": {
     "base_uri": "https://localhost:8080/",
     "height": 534
    },
    "id": "QUdkRCuh_SIb",
    "outputId": "cb708e95-9170-47bb-d223-620d5a083885"
   },
   "outputs": [],
   "source": [
    "#Plotting our bar graph \n",
    "df.groupby(['gender','signs_of_mental_illness']).id.count().unstack().plot(kind='bar',figsize=(12,8),stacked=True) \n",
    "\n",
    "# labels and title\n",
    "plt.title('Correlaton between the victims gender to showing signs of mental illnesses',fontsize=16)\n",
    "plt.xlabel('Did victim show signs of mental illnesses',fontsize=14)\n",
    "plt.ylabel('Number',fontsize=14)\n",
    "plt.legend(fontsize=10)"
   ]
  },
  {
   "cell_type": "code",
   "execution_count": null,
   "metadata": {
    "colab": {
     "base_uri": "https://localhost:8080/",
     "height": 534
    },
    "id": "Sj6N4dbc_SIb",
    "outputId": "a04751a2-eb71-479c-dc51-02a8f74f0db3"
   },
   "outputs": [],
   "source": [
    "#Plotting our bar graph \n",
    "df.groupby(['gender','threat_level']).id.count().unstack().plot(kind='bar',figsize=(12,8), stacked = True) \n",
    "\n",
    "# labels and title\n",
    "plt.title('Correlaton between the victims gender to threat level observed',fontsize=16)\n",
    "# plt.xticks(rotation = 60)\n",
    "plt.xlabel('Did victim act in a threatening manner',fontsize=14)\n",
    "plt.ylabel('Number',fontsize=14)\n",
    "plt.legend(fontsize=10)"
   ]
  },
  {
   "cell_type": "code",
   "execution_count": null,
   "metadata": {
    "colab": {
     "base_uri": "https://localhost:8080/",
     "height": 581
    },
    "id": "bzg9vHcp_SIc",
    "outputId": "e69cc553-f6b9-476b-a3ca-d53ace3cd9b1"
   },
   "outputs": [],
   "source": [
    "#Plotting our bar graph \n",
    "df.groupby(['flee','gender']).id.count().unstack().plot(kind='bar',figsize=(12,8), stacked = True) \n",
    "\n",
    "# labels and title\n",
    "plt.title('Correlaton between the victims gender to their attempt to flee',fontsize=16)\n",
    "plt.xlabel('Did victim attempt to flee? and if they did how?',fontsize=14)\n",
    "plt.ylabel('Number',fontsize=14)\n",
    "plt.legend(fontsize=10)"
   ]
  },
  {
   "cell_type": "code",
   "execution_count": null,
   "metadata": {
    "colab": {
     "base_uri": "https://localhost:8080/",
     "height": 534
    },
    "id": "t2fuKIXD_SIc",
    "outputId": "b4922ed8-93b4-4ef6-e637-e508c898e0db"
   },
   "outputs": [],
   "source": [
    "#Plotting our bar graph \n",
    "df.groupby(['gender','body_camera']).id.count().unstack().plot(kind='bar',figsize=(12,8)) \n",
    "\n",
    "# labels and title\n",
    "plt.title('Correlaton between the victims gender and the police body camera being used',fontsize=16)\n",
    "plt.xlabel('Gender',fontsize=14)\n",
    "plt.ylabel('Number',fontsize=14)\n",
    "plt.legend(fontsize=10)"
   ]
  },
  {
   "cell_type": "code",
   "execution_count": null,
   "metadata": {
    "colab": {
     "base_uri": "https://localhost:8080/",
     "height": 532
    },
    "id": "ng52hhLs_SIc",
    "outputId": "fe5fdc6d-0cc4-48e6-f512-d1f3c5092742"
   },
   "outputs": [],
   "source": [
    "#Plotting our bar graph \n",
    "df.groupby(['gender','arms_category']).id.count().head(3).unstack().plot(kind='bar',figsize=(12,8)) \n",
    "\n",
    "# labels and title\n",
    "plt.title('Correlaton between the victims gender and the arms they were carrying',fontsize=16)\n",
    "plt.xlabel('What arms did the victims have?',fontsize=14)\n",
    "plt.ylabel('Number',fontsize=14)\n",
    "plt.legend(fontsize=10)"
   ]
  },
  {
   "cell_type": "code",
   "execution_count": null,
   "metadata": {
    "colab": {
     "base_uri": "https://localhost:8080/",
     "height": 569
    },
    "id": "KuH5aPK4_SId",
    "outputId": "41d94d3b-a34c-4a3f-a755-d1a938c496eb"
   },
   "outputs": [],
   "source": [
    "#Plotting our bar graph \n",
    "df.groupby(['race','signs_of_mental_illness']).id.count().unstack().plot(kind='bar',figsize=(12,8), stacked = True) \n",
    "\n",
    "# labels and title\n",
    "plt.title('Correlaton between the victims race and signs of mental illness',fontsize=16)\n",
    "plt.xlabel('Did victim show signs of mental illness?',fontsize=14)\n",
    "plt.ylabel('Number',fontsize=14)\n",
    "plt.legend(fontsize=10)"
   ]
  },
  {
   "cell_type": "code",
   "execution_count": null,
   "metadata": {
    "colab": {
     "base_uri": "https://localhost:8080/",
     "height": 536
    },
    "id": "y1Gluctf_SId",
    "outputId": "cbaac9df-cda9-4de5-ef7d-135cbbadc481"
   },
   "outputs": [],
   "source": [
    "#Plotting our bar graph \n",
    "df.groupby(['race','threat_level']).id.count().sort_values(ascending =True).unstack().plot(kind='barh',figsize=(12,8), stacked = True) \n",
    "\n",
    "# labels and title\n",
    "plt.title('Correlaton between the victims race and threat level',fontsize=16)\n",
    "plt.xlabel('What threatlevel did the victim display',fontsize=14)\n",
    "plt.ylabel('Number',fontsize=14)\n",
    "plt.legend(fontsize=10)"
   ]
  },
  {
   "cell_type": "code",
   "execution_count": null,
   "metadata": {
    "colab": {
     "base_uri": "https://localhost:8080/",
     "height": 569
    },
    "id": "5ktq7gJP_SIe",
    "outputId": "bb3f7134-f62d-46e1-8d13-7f30c1eb9560"
   },
   "outputs": [],
   "source": [
    "#Plotting our bar graph \n",
    "df.groupby(['race','flee']).id.count().unstack().plot(kind='bar',figsize=(12,8),stacked = True) \n",
    "\n",
    "# labels and title\n",
    "plt.title('Correlaton between the victims race and whether the victim attempted to flee',fontsize=16)\n",
    "plt.xlabel('Did the victim attempt to flee? and if soo, how?',fontsize=14)\n",
    "plt.ylabel('Number',fontsize=14)\n",
    "plt.legend(fontsize=10)"
   ]
  },
  {
   "cell_type": "code",
   "execution_count": null,
   "metadata": {
    "colab": {
     "base_uri": "https://localhost:8080/",
     "height": 569
    },
    "id": "L2YDlVIX_SIe",
    "outputId": "13251c9b-c8ec-4ebc-d24b-5cec1c1fad5b"
   },
   "outputs": [],
   "source": [
    "#Plotting our bar graph \n",
    "df.groupby(['race','body_camera']).id.count().unstack().plot(kind='bar',figsize=(12,8)) \n",
    "\n",
    "# labels and title\n",
    "plt.title('Correlaton between the victims race and whether the police body camera was on',fontsize=16)\n",
    "plt.xlabel('Was thee police body camera on?',fontsize=14)\n",
    "plt.ylabel('Number',fontsize=14)\n",
    "plt.legend(fontsize=10)"
   ]
  },
  {
   "cell_type": "code",
   "execution_count": null,
   "metadata": {
    "colab": {
     "base_uri": "https://localhost:8080/",
     "height": 596
    },
    "id": "uC3cyPTk_SIe",
    "outputId": "7e214c1e-90c0-40be-81fb-3ad740dd5f96"
   },
   "outputs": [],
   "source": [
    "#Plotting our bar graph \n",
    "df.groupby(['threat_level','signs_of_mental_illness']).id.count().unstack().plot(kind='bar',figsize=(12,8)) \n",
    "\n",
    "# labels and title\n",
    "plt.title('Correlaton between the victims mental state and the victims threat level',fontsize=16)\n",
    "plt.xlabel('What threat level did the victim display',fontsize=14)\n",
    "plt.ylabel('Number',fontsize=14)\n",
    "plt.legend(fontsize=10)"
   ]
  },
  {
   "cell_type": "code",
   "execution_count": null,
   "metadata": {
    "colab": {
     "base_uri": "https://localhost:8080/",
     "height": 581
    },
    "id": "7byA0eHP_SIf",
    "outputId": "43953132-0b3c-4f00-d53d-e069ea625b0a"
   },
   "outputs": [],
   "source": [
    "#Plotting our bar graph \n",
    "df.groupby(['flee','signs_of_mental_illness']).id.count().unstack().plot(kind='bar',figsize=(12,8)) \n",
    "\n",
    "# labels and title\n",
    "plt.title('Correlaton between the victims mental state and the victims attempt to flee',fontsize=16)\n",
    "plt.xlabel('Did the victim attempt to flee?',fontsize=14)\n",
    "plt.ylabel('Number',fontsize=14)\n",
    "plt.legend(fontsize=10)"
   ]
  },
  {
   "cell_type": "code",
   "execution_count": null,
   "metadata": {
    "colab": {
     "base_uri": "https://localhost:8080/",
     "height": 551
    },
    "id": "so27ZENp_SIf",
    "outputId": "d3a92dbe-5ac1-4c79-aebf-4b2c7f2d88d5"
   },
   "outputs": [],
   "source": [
    "#Plotting our bar graph \n",
    "df.groupby(['signs_of_mental_illness','body_camera']).id.count().unstack().plot(kind='bar',figsize=(12,8)) \n",
    "\n",
    "# labels and title\n",
    "plt.title('Correlaton between the victims mental state and the police body camera being on',fontsize=16)\n",
    "plt.xlabel('Was the body camera on?',fontsize=14)\n",
    "plt.ylabel('Number',fontsize=14)\n",
    "plt.legend(fontsize=10)"
   ]
  },
  {
   "cell_type": "code",
   "execution_count": null,
   "metadata": {
    "colab": {
     "base_uri": "https://localhost:8080/",
     "height": 536
    },
    "id": "haTuguQY_SIf",
    "outputId": "923cc1ca-9853-4a5c-9029-9851d171279e"
   },
   "outputs": [],
   "source": [
    "#Plotting our bar graph \n",
    "df.groupby(['arms_category','signs_of_mental_illness']).id.count().unstack().plot(kind='barh',figsize=(12,8), stacked = True) \n",
    "\n",
    "# labels and title\n",
    "plt.title('Correlaton between the victims mental state and the kind of arms they were carrying',fontsize=16)\n",
    "plt.ylabel('What arms were the victims carrying?',fontsize=14)\n",
    "plt.xlabel('Number',fontsize=14)\n",
    "plt.legend(fontsize=10)"
   ]
  },
  {
   "cell_type": "code",
   "execution_count": null,
   "metadata": {
    "colab": {
     "base_uri": "https://localhost:8080/",
     "height": 581
    },
    "id": "LWrdevv-_SIg",
    "outputId": "de43f669-de9a-4f43-edbe-feee475b5ac1"
   },
   "outputs": [],
   "source": [
    "#Plotting our bar graph \n",
    "df.groupby(['flee','threat_level']).id.count().unstack().plot(kind='bar',figsize=(12,8)) \n",
    "\n",
    "# labels and title\n",
    "plt.title('Correlaton between the victims threat level and their attempt to flee',fontsize=16)\n",
    "plt.xlabel('How did the victim attempt to flee',fontsize=14)\n",
    "plt.ylabel('Number',fontsize=14)\n",
    "plt.legend(fontsize=10)"
   ]
  },
  {
   "cell_type": "code",
   "execution_count": null,
   "metadata": {
    "colab": {
     "base_uri": "https://localhost:8080/",
     "height": 596
    },
    "id": "WIMqUgr0_SIg",
    "outputId": "cfad758f-74a5-4472-b541-d6114bdd8193"
   },
   "outputs": [],
   "source": [
    "#Plotting our bar graph \n",
    "df.groupby(['threat_level','body_camera']).id.count().unstack().plot(kind='bar',figsize=(12,8), stacked = True) \n",
    "\n",
    "# labels and title\n",
    "plt.title('Correlaton between the victims threat level and the police body camera being on',fontsize=16)\n",
    "plt.xlabel('Was the body camera on',fontsize=14)\n",
    "plt.ylabel('Number',fontsize=14)\n",
    "plt.legend(fontsize=10)"
   ]
  },
  {
   "cell_type": "code",
   "execution_count": null,
   "metadata": {
    "colab": {
     "base_uri": "https://localhost:8080/",
     "height": 636
    },
    "id": "I7Q9az5f_SIg",
    "outputId": "c19ed3ce-c0c8-487f-bc5e-1b0f247baed3"
   },
   "outputs": [],
   "source": [
    "#Plotting our bar graph \n",
    "df.groupby(['arms_category','threat_level']).id.count().unstack().plot(kind='bar',figsize=(12,8), stacked = True) \n",
    "\n",
    "# labels and title\n",
    "plt.title('Correlaton between the victims threat level and the type of arms they are carrying',fontsize=16)\n",
    "plt.xlabel('What arms were the victims carrying',fontsize=14)\n",
    "plt.ylabel('Number',fontsize=14)\n",
    "plt.legend(fontsize=10)"
   ]
  },
  {
   "cell_type": "code",
   "execution_count": null,
   "metadata": {
    "colab": {
     "base_uri": "https://localhost:8080/",
     "height": 581
    },
    "id": "MFo31BXH_SIg",
    "outputId": "9e1122ab-019e-4bc9-ecb0-d0e6df563ef2"
   },
   "outputs": [],
   "source": [
    "#Plotting our bar graph \n",
    "df.groupby(['flee','body_camera']).id.count().unstack().plot(kind='bar',figsize=(12,8), stacked = True)\n",
    "\n",
    "# labels and title\n",
    "plt.title('relaton between the victims attempt to flee and whether police had body camera on',fontsize=16)\n",
    "plt.xlabel('Was the body camera on',fontsize=14)\n",
    "plt.ylabel('Number',fontsize=14)\n",
    "plt.legend(fontsize=10)"
   ]
  },
  {
   "cell_type": "code",
   "execution_count": null,
   "metadata": {
    "colab": {
     "base_uri": "https://localhost:8080/",
     "height": 636
    },
    "id": "SZ4zb3sg_SIh",
    "outputId": "95205426-cde3-4203-84c3-ba7f952f8a90"
   },
   "outputs": [],
   "source": [
    "#Plotting our bar graph \n",
    "df.groupby(['arms_category','flee']).id.count().unstack().plot(kind='bar',figsize=(12,8), stacked = True) \n",
    "\n",
    "# labels and title\n",
    "plt.title('Correlaton between the victims attempting to flee and the arms they ar carrying',fontsize=16)\n",
    "plt.xlabel('What arm was the victim carrying',fontsize=14)\n",
    "plt.ylabel('Number',fontsize=14)\n",
    "plt.legend(fontsize=10)"
   ]
  },
  {
   "cell_type": "code",
   "execution_count": null,
   "metadata": {
    "colab": {
     "base_uri": "https://localhost:8080/",
     "height": 636
    },
    "id": "jAvy0vSw_SIh",
    "outputId": "b6afbdf9-f5c3-4573-aa4b-571da1b254bf"
   },
   "outputs": [],
   "source": [
    "#Plotting our bar graph \n",
    "df.groupby(['arms_category','body_camera']).id.count().unstack().plot(kind='bar',figsize=(12,8), stacked = True) \n",
    "\n",
    "# labels and title\n",
    "plt.title('Correlaton between the the body camera being on and what arms the victim was carrying',fontsize=16)\n",
    "plt.xlabel('What arms was the victim carrying',fontsize=14)\n",
    "plt.ylabel('Number',fontsize=14)\n",
    "plt.legend(fontsize=10)"
   ]
  },
  {
   "cell_type": "code",
   "execution_count": null,
   "metadata": {
    "colab": {
     "base_uri": "https://localhost:8080/",
     "height": 569
    },
    "id": "pNAPoNYs_SIh",
    "outputId": "f24cb4dd-8c7a-43e1-f2e7-05f8d471b786"
   },
   "outputs": [],
   "source": [
    "#Plotting our bar graph \n",
    "df.groupby(['race', 'body_camera']).id.count().unstack().plot(kind='bar',figsize=(12,8))\n",
    "\n",
    "# labels and title\n",
    "plt.title('Comparison of usage of body cameras dependent on different races',fontsize=16)\n",
    "plt.xlabel('Was body camera on?',fontsize=14)\n",
    "plt.ylabel('Number',fontsize=14)\n",
    "plt.legend(fontsize=10)"
   ]
  },
  {
   "cell_type": "code",
   "execution_count": null,
   "metadata": {
    "id": "lGNBYB2b_Rj5"
   },
   "outputs": [],
   "source": []
  },
  {
   "cell_type": "markdown",
   "metadata": {
    "id": "8C08FlQrZZ3h"
   },
   "source": [
    "##Multivariate Plots"
   ]
  },
  {
   "cell_type": "code",
   "execution_count": null,
   "metadata": {
    "id": "_5ujkKG2jPjj"
   },
   "outputs": [],
   "source": [
    "# import sys\n",
    "# !{sys.executable} -m pip install -U pandas-profiling[notebook]\n",
    "# !jupyter nbextension enable --py widgetsnbextension"
   ]
  },
  {
   "cell_type": "code",
   "execution_count": null,
   "metadata": {
    "id": "NyJA5GMQZv-4"
   },
   "outputs": [],
   "source": [
    "# !pip install https://github.com/pandas-profiling/pandas-profiling/archive/master.zip\n",
    "  \n",
    "# from pandas_profiling import ProfileReport\n",
    "\n",
    "# import sys\n",
    "# !{sys.executable} -m pip install -U pandas-profiling[notebook]\n",
    "# !jupyter nbextension enable --py widgetsnbextension"
   ]
  },
  {
   "cell_type": "code",
   "execution_count": null,
   "metadata": {
    "id": "HTvwO7ooZ8bk"
   },
   "outputs": [],
   "source": [
    "# profile = ProfileReport(df, title='Pandas Profiling Report - Police Shooting in the US', explorative=True)\n",
    "# profile.to_widgets()"
   ]
  },
  {
   "cell_type": "code",
   "execution_count": null,
   "metadata": {
    "id": "A7FR9FZ4Bnqe"
   },
   "outputs": [],
   "source": [
    "# ## Check the equality of the variances between the two groups using Levene's test\n",
    "\n",
    "# stat,p = stats.levene(day_sample['bluecars_taken_sum'], end_sample['bluecars_taken_sum'], center='mean') \n",
    "# # we use center = mean because our samples are fairly/moderately skewed\n",
    "\n",
    "# print('Statistic=%.4f, pvalue=%.4f' % (stat, p))\n",
    "# print('\\n')\n",
    "# # Interpretation of the Levene's test results\n",
    "\n",
    "# alpha = 0.05\n",
    "# if p <= alpha:\n",
    "# \tprint('The two variances are significantly different')\n",
    "# else:\n",
    "# \tprint('The two variances are approximately equal')\n",
    "# print('\\n')\n",
    "# print('\\n')\n",
    "# # calculate the means\n",
    "\n",
    "# # a) of the bluecars taken on monday dataframe\n",
    "\n",
    "# day_mean = day_sample['bluecars_taken_sum'].mean()\n",
    "\n",
    "# print('The mean of the Monday bluecars rented out data sample is: ', day_mean)\n",
    "# print('\\n')\n",
    "# print('\\n')\n",
    "# # b) of the bluecars taken on Friday dataframe\n",
    "\n",
    "# end_mean = end_sample['bluecars_taken_sum'].mean()\n",
    "\n",
    "# print('The mean of the Friday bluecars rented out data sample is: ', end_mean)\n",
    "# print('\\n')\n",
    "# print('\\n')\n",
    "# # calculate the standard deviation:\n",
    "\n",
    "# # a) of the bluecars taken on monday dataframe\n",
    "\n",
    "# day_std = day_sample['bluecars_taken_sum'].std()\n",
    "\n",
    "# print('The standard deviation of the Monday bluecars rented out data sample is: ', day_std)\n",
    "# print('\\n')\n",
    "# print('\\n')\n",
    "# # b) of the bluecars taken on friday dataframe\n",
    "\n",
    "# end_std = end_sample['bluecars_taken_sum'].std()\n",
    "\n",
    "# print('The standard deviation of the Friday bluecars rented out data sample is: ', end_std)\n",
    "# print('\\n')\n",
    "# print('\\n')\n",
    "# # calculate the standard error (se = std / sqrt(n)):\n",
    "\n",
    "# # a) of the bluecars taken on monday dataframe\n",
    "\n",
    "# day_std_error = day_std/ len(day_sample)\n",
    "\n",
    "# print('The standard error of the Monday bluecars rented out data sample is: ', day_std_error)\n",
    "# print('\\n')\n",
    "# print('\\n')\n",
    "# # b) of the bluecars taken on friday dataframe\n",
    "\n",
    "# end_std_error = end_std/ len(end_sample)\n",
    "\n",
    "# print('The standard error of the Friday bluecars rented out data sample is ', end_std_error)\n",
    "# print('\\n')\n",
    "# print('\\n')\n",
    "\n",
    "# difference = sqrt((day_std_error**2) + (end_std_error**2))\n",
    "\n",
    "# print(\"the standard error of the difference between the means is:\",difference)\n",
    "# print('\\n')\n",
    "# print('\\n')\n",
    "\n",
    "# #find the T statistic\n",
    "\n",
    "# t_statistic = (day_mean - end_mean)/difference\n",
    "\n",
    "\n",
    "# print(\"The T statistic is\",t_statistic)\n",
    "# print('\\n')\n",
    "# print('\\n')\n",
    "\n",
    "\n",
    "# # find the critical value\n",
    "\n",
    "# c_value = t.ppf(1.0 - alpha, freedom)\n",
    "\n",
    "# c_value\n",
    "# print(\"the Critical value is\", c_value)\n",
    "# print('\\n')\n",
    "# print('\\n')"
   ]
  },
  {
   "cell_type": "markdown",
   "metadata": {
    "id": "72x73no0kgT2"
   },
   "source": [
    "# **8. Hypothesis Testing**"
   ]
  },
  {
   "cell_type": "markdown",
   "metadata": {
    "id": "BAferV5O-hMx"
   },
   "source": [
    "##Sampling of race\n",
    "We are going to first group the races by whites and other minority races which will then be sampled  by use of proportionate stratified sampling in comparison to the US population. We decided to use this sampling method so that each strata will be a proportionate representative of the US population."
   ]
  },
  {
   "cell_type": "markdown",
   "metadata": {
    "id": "dfyVxO8IxIfx"
   },
   "source": [
    "Null hypothesis: Minority races shot by police are more that the white races\n",
    "\n",
    "Alternative hypothesis: Minority races shot by police are not more that the white races.\n",
    "\n",
    "Keys\n",
    "\n",
    "$H_{0}$ = Null hypothesis\n",
    "\n",
    "$H_{1}$ = Alternative hypothesis\n",
    "\n",
    "$mu_{1}$ = *Average number of Bluecars taken from stations on Mondays*\n",
    "\n",
    "$mu_{2}$ = *Average number of Bluecars taken from stations on Fridays*\n",
    "\n",
    "$H_{0}$: $mu_{1}$ = $mu_{2}$\n"
   ]
  },
  {
   "cell_type": "code",
   "execution_count": null,
   "metadata": {
    "id": "5ErlrSCj-hM1"
   },
   "outputs": [],
   "source": [
    "ndf = df.copy()"
   ]
  },
  {
   "cell_type": "code",
   "execution_count": null,
   "metadata": {
    "colab": {
     "base_uri": "https://localhost:8080/",
     "height": 307
    },
    "id": "_5jRje0d-hM2",
    "outputId": "1fefa490-c5d8-48a1-9e15-f92b183e3d7a"
   },
   "outputs": [],
   "source": [
    "ndf.head()"
   ]
  },
  {
   "cell_type": "code",
   "execution_count": null,
   "metadata": {
    "id": "TMtSKO6Z-hM3"
   },
   "outputs": [],
   "source": [
    "#encoding minority data frame\n",
    "from sklearn.preprocessing import LabelEncoder\n",
    "lb=LabelEncoder()\n",
    "\n",
    "ndf['manner_of_death']=lb.fit_transform(ndf['manner_of_death'].astype(str))\n",
    "ndf['armed']=lb.fit_transform(ndf['armed'].astype(str))\n",
    "ndf['gender']=lb.fit_transform(ndf['gender'].astype(str))\n",
    "ndf['race']=lb.fit_transform(ndf['race'].astype(str))\n",
    "ndf['city']=lb.fit_transform(ndf['city'].astype(str))\n",
    "ndf['state']=lb.fit_transform(ndf['state'].astype(str))\n",
    "ndf['threat_level']=lb.fit_transform(ndf['threat_level'].astype(str))\n",
    "ndf['flee']=lb.fit_transform(ndf['flee'].astype(str))\n",
    "ndf['arms_category']=lb.fit_transform(ndf['arms_category'].astype(str))"
   ]
  },
  {
   "cell_type": "code",
   "execution_count": null,
   "metadata": {
    "id": "nYVxs3RF-hM4"
   },
   "outputs": [],
   "source": [
    "newdf = ['manner_of_death','armed','gender','race','city','state','threat_level','flee','arms_category']"
   ]
  },
  {
   "cell_type": "code",
   "execution_count": null,
   "metadata": {
    "id": "KQBforOi-hM4"
   },
   "outputs": [],
   "source": [
    "# from sklearn.preprocessing import StandardScaler\n",
    "# scaler = StandardScaler()\n",
    "# nndf = ndf.copy()\n",
    "# nndf[newdf] = scaler.fit_transform(nndf[newdf])\n",
    "# ndf = nndf"
   ]
  },
  {
   "cell_type": "code",
   "execution_count": null,
   "metadata": {
    "colab": {
     "base_uri": "https://localhost:8080/",
     "height": 307
    },
    "id": "ocEp1xrG-hM4",
    "outputId": "bd40be6e-49eb-45ce-b086-a091d76500c1"
   },
   "outputs": [],
   "source": [
    "ndf.head()"
   ]
  },
  {
   "cell_type": "code",
   "execution_count": null,
   "metadata": {
    "colab": {
     "base_uri": "https://localhost:8080/",
     "height": 358
    },
    "id": "ngoxhrlm-hM5",
    "outputId": "ba5b621d-cf95-48dc-b01e-a7da0073ac13"
   },
   "outputs": [],
   "source": [
    "# Creating a subset with Monday sample data\n",
    "\n",
    "white =  ndf.loc[df['race']=='White'] # Monday is 0 according to the glossary\n",
    "\n",
    "#Creating a subset with Friday sample data\n",
    "minority =  ndf.loc[df['race']!='White'] # Since Monday 0, Friday will be 4\n",
    "\n",
    "\n",
    "print(white.shape)\n",
    "white.head()\n"
   ]
  },
  {
   "cell_type": "code",
   "execution_count": null,
   "metadata": {
    "colab": {
     "base_uri": "https://localhost:8080/",
     "height": 341
    },
    "id": "vSHv9oYi-hM5",
    "outputId": "ceb0d7fc-5d35-45e4-da7a-e0bf1aedc360"
   },
   "outputs": [],
   "source": [
    "#Preview of minority dataset\n",
    "print(minority.shape)\n",
    "minority.head()"
   ]
  },
  {
   "cell_type": "code",
   "execution_count": null,
   "metadata": {
    "colab": {
     "base_uri": "https://localhost:8080/",
     "height": 391
    },
    "id": "01FND0HJ-hM6",
    "outputId": "57ed5d79-b6cc-4b10-8c87-c9d5d34b0e55"
   },
   "outputs": [],
   "source": [
    "# stratified random sampling of the white population\n",
    "white_sample = white.groupby('state', group_keys=False).apply(lambda grouped_subset : grouped_subset.sample(frac=0.2))\n",
    "\n",
    "#shape of the sample\n",
    "print(white_sample.shape)\n",
    "\n",
    "#preview of the sample\n",
    "white_sample.head()"
   ]
  },
  {
   "cell_type": "code",
   "execution_count": null,
   "metadata": {
    "colab": {
     "base_uri": "https://localhost:8080/",
     "height": 324
    },
    "id": "6iyuq_UP-hM6",
    "outputId": "0ce63846-fa1f-4f9e-d6e9-b9f65fcde51b"
   },
   "outputs": [],
   "source": [
    "# stratified random sampling of the minority population\n",
    "minority_sample = minority.groupby('state', group_keys=False).apply(lambda grouped_subset : grouped_subset.sample(frac=0.2))\n",
    "\n",
    "#shape of the sample\n",
    "print(minority_sample.shape)\n",
    "\n",
    "#preview of the sample\n",
    "minority_sample.head()"
   ]
  },
  {
   "cell_type": "code",
   "execution_count": null,
   "metadata": {
    "colab": {
     "base_uri": "https://localhost:8080/"
    },
    "id": "9c_74dHr-hM7",
    "outputId": "5b07e88f-7252-4d7a-ed83-6d2d9bdb731a"
   },
   "outputs": [],
   "source": [
    "# ## Check the equality of the variances between the two groups using Levene's test\n",
    "\n",
    "stat,p = stats.levene(minority_sample['race'].value_counts(), white_sample['race'].value_counts(), center='mean') \n",
    "#we use center = mean because our samples are fairly/moderately skewed\n",
    "\n",
    "print('Statistic=%.4f, pvalue=%.4f' % (stat, p))\n",
    "print('\\n')\n",
    "#Interpretation of the Levene's test results\n",
    "\n",
    "alpha = 0.05\n",
    "if p <= alpha:\n",
    "\tprint('The two variances are significantly different')\n",
    "else:\n",
    "\tprint('The two variances are approximately equal')\n",
    "print('\\n')\n",
    "print('\\n')\n",
    "#calculate the means\n",
    "\n",
    "# a) of the minorities dataset\n",
    "\n",
    "minority_mean = minority_sample['race'].mean()\n",
    "\n",
    "print('The mean of the minority sample data race column is: ', minority_mean)\n",
    "print('\\n')\n",
    "print('\\n')\n",
    "# b) of the bluecars taken on Friday dataframe\n",
    "\n",
    "white_mean = white_sample['race'].mean()\n",
    "\n",
    "print('The mean of the white sample data race column is: ', white_mean)\n",
    "print('\\n')\n",
    "print('\\n')\n",
    "# calculate the standard deviation:\n",
    "\n",
    "# a) of the minority races sample dataframe\n",
    "\n",
    "minority_std = minority_sample['race'].std()\n",
    "\n",
    "print('The standard deviation of minority sample race column is: ', minority_std)\n",
    "print('\\n')\n",
    "print('\\n')\n",
    "# b) of the white race sample dataframe\n",
    "\n",
    "white_std = white_sample['race'].std()\n",
    "\n",
    "print('The standard deviation of white sample race column is: : ', white_std)\n",
    "print('\\n')\n",
    "print('\\n')\n",
    "# calculate the standard error (se = std / sqrt(n)):\n",
    "\n",
    "# a) of the minority race sample dataframe\n",
    "\n",
    "minority_std_error = minority_std/ len(minority_sample)\n",
    "\n",
    "print('The standard error of the minority race sample data sample is: ', minority_std_error)\n",
    "print('\\n')\n",
    "print('\\n')\n",
    "# b) of the white race sample dataframe\n",
    "\n",
    "white_std_error = white_std/ len(white_sample)\n",
    "\n",
    "print('The standard error of the white race sample data sample is ', white_std_error)\n",
    "print('\\n')\n",
    "print('\\n')\n",
    "#Calculate the difference of standard errors\n",
    "difference = sqrt((minority_std_error**2) + (white_std_error**2))\n",
    "\n",
    "print(\"the standard error of the difference between the means is:\",difference)\n",
    "print('\\n')\n",
    "print('\\n')\n",
    "\n",
    "# #find the T statistic\n",
    "\n",
    "t_statistic = (minority_mean - white_mean)/difference\n",
    "\n",
    "\n",
    "print(\"The T statistic is\",t_statistic)\n",
    "print('\\n')\n",
    "print('\\n')\n",
    "\n",
    "# calculate the degrees of freedom\n",
    "\n",
    "freedom = len(minority_sample) + len(white_sample) - 2\n",
    "\n",
    "freedom\n",
    "# find the critical value\n",
    "\n",
    "c_value = t.ppf(1.0 - alpha, freedom)\n",
    "\n",
    "c_value\n",
    "print(\"the Critical value is\", c_value)\n",
    "print('\\n')\n",
    "# print('\\n')"
   ]
  },
  {
   "cell_type": "code",
   "execution_count": null,
   "metadata": {
    "colab": {
     "base_uri": "https://localhost:8080/"
    },
    "id": "eYFE5e8X9uHR",
    "outputId": "7792b430-e1da-4b3e-8eef-d573e95df69b"
   },
   "outputs": [],
   "source": [
    "\n",
    "if abs(t_statistic) <= c_value:\n",
    "\tprint('Accept null hypothesis')\n",
    "else:\n",
    "\tprint('Reject the null hypothesis')"
   ]
  },
  {
   "cell_type": "markdown",
   "metadata": {
    "id": "R3kAC3vHwhcE"
   },
   "source": [
    "##Sampling of age\n",
    "We are going to conduct stratified sampling. We will create stratas of states. and then conduct random sampling of the stratas.\n",
    "\n",
    "We decided to use this sampling method so that each strata will be a proportionate representative of the data population."
   ]
  },
  {
   "cell_type": "code",
   "execution_count": null,
   "metadata": {
    "colab": {
     "base_uri": "https://localhost:8080/"
    },
    "id": "h4IT_SLfyOxK",
    "outputId": "659743d7-b110-4f94-aaeb-ba284f21880c"
   },
   "outputs": [],
   "source": [
    "df.columns"
   ]
  },
  {
   "cell_type": "code",
   "execution_count": null,
   "metadata": {
    "colab": {
     "base_uri": "https://localhost:8080/",
     "height": 324
    },
    "id": "OlEa1iZqyG-v",
    "outputId": "54c1b2d5-ffac-4eda-c564-45e85471fa95"
   },
   "outputs": [],
   "source": [
    "# Creating a subset with ages 19 - 25\n",
    "belnine =  ndf.loc[(df['age'] >18) & (df['age'] <26 )] \n",
    "abovefive =  ndf.loc[(df['age'] <19) | (df['age'] >25 )] \n",
    "\n",
    "belnine.head()\n",
    "abovefive.head()\n"
   ]
  },
  {
   "cell_type": "code",
   "execution_count": null,
   "metadata": {
    "colab": {
     "base_uri": "https://localhost:8080/",
     "height": 358
    },
    "id": "fSrKYPer0ohu",
    "outputId": "3d4d3234-b3f1-4d2b-de7f-a56ea7411ebd"
   },
   "outputs": [],
   "source": [
    "# stratified random sampling of the population between 19 and 25\n",
    "belnine_sample = belnine.groupby('state', group_keys=False).apply(lambda grouped_subset : grouped_subset.sample(frac=0.2))\n",
    "\n",
    "#shape of the sample\n",
    "print(belnine_sample.shape)\n",
    "\n",
    "#preview of the sample\n",
    "belnine_sample.head()"
   ]
  },
  {
   "cell_type": "code",
   "execution_count": null,
   "metadata": {
    "colab": {
     "base_uri": "https://localhost:8080/",
     "height": 358
    },
    "id": "wa2mc0IE08nd",
    "outputId": "a08c5ff8-cb71-42e4-e5ab-26c5b774c5fd"
   },
   "outputs": [],
   "source": [
    "# stratified random sampling of the population between 19 and 25\n",
    "abovefive_sample = abovefive.groupby('state', group_keys=False).apply(lambda grouped_subset : grouped_subset.sample(frac=0.2))\n",
    "\n",
    "#shape of the sample\n",
    "print(abovefive_sample.shape)\n",
    "\n",
    "#preview of the sample\n",
    "abovefive_sample.head()"
   ]
  },
  {
   "cell_type": "code",
   "execution_count": null,
   "metadata": {
    "colab": {
     "base_uri": "https://localhost:8080/"
    },
    "id": "N6aui79i4EFV",
    "outputId": "e6fb4863-d39d-4e62-c757-52dc3f48b50f"
   },
   "outputs": [],
   "source": [
    "# ## Check the equality of the variances between the two groups using Levene's test\n",
    "\n",
    "stat,p = stats.levene(belnine_sample['age'], abovefive_sample['age'], center='mean') \n",
    "#we use center = mean because our samples are fairly/moderately skewed\n",
    "\n",
    "print('Statistic=%.4f, pvalue=%.4f' % (stat, p))\n",
    "print('\\n')\n",
    "#Interpretation of the Levene's test results\n",
    "\n",
    "alpha = 0.05\n",
    "if p <= alpha:\n",
    "\tprint('The two variances are significantly different')\n",
    "else:\n",
    "\tprint('The two variances are approximately equal')\n",
    "print('\\n')\n",
    "print('\\n')\n",
    "#calculate the means\n",
    "\n",
    "# a) of the minorities dataset\n",
    "\n",
    "belnine_sample_mean = belnine_sample['age'].mean()\n",
    "\n",
    "print('The mean of the minority sample data race column is: ', belnine_sample_mean)\n",
    "print('\\n')\n",
    "print('\\n')\n",
    "# b) of the bluecars taken on Friday dataframe\n",
    "\n",
    "abovefive_mean = abovefive_sample['age'].mean()\n",
    "\n",
    "print('The mean of the white sample data race column is: ', abovefive_mean)\n",
    "print('\\n')\n",
    "print('\\n')\n",
    "# calculate the standard deviation:\n",
    "\n",
    "# a) of the minority races sample dataframe\n",
    "\n",
    "belnine_sample_std = belnine_sample['age'].std()\n",
    "\n",
    "print('The standard deviation of minority sample race column is: ', belnine_sample_std)\n",
    "print('\\n')\n",
    "print('\\n')\n",
    "# b) of the white race sample dataframe\n",
    "\n",
    "abovefive_std = abovefive_sample['age'].std()\n",
    "\n",
    "print('The standard deviation of white sample race column is: : ', abovefive_std)\n",
    "print('\\n')\n",
    "print('\\n')\n",
    "# calculate the standard error (se = std / sqrt(n)):\n",
    "\n",
    "# a) of the minority race sample dataframe\n",
    "\n",
    "belnine_sample_std_error = belnine_sample_std/ len(belnine_sample)\n",
    "\n",
    "print('The standard error of the minority race sample data sample is: ', belnine_sample_std_error)\n",
    "print('\\n')\n",
    "print('\\n')\n",
    "# b) of the white race sample dataframe\n",
    "\n",
    "abovefive_sample_std_error = abovefive_std/ len(abovefive_sample)\n",
    "\n",
    "print('The standard error of the white race sample data sample is ', abovefive_sample_std_error)\n",
    "print('\\n')\n",
    "print('\\n')\n",
    "#Calculate the difference of standard errors\n",
    "difference = sqrt(belnine_sample_std_error**2) + (abovefive_sample_std_error**2)\n",
    "\n",
    "print(\"the standard error of the difference between the means is:\",difference)\n",
    "print('\\n')\n",
    "print('\\n')\n",
    "\n",
    "# #find the T statistic\n",
    "\n",
    "t_statistic = (belnine_sample_mean - abovefive_mean)/difference\n",
    "\n",
    "\n",
    "print(\"The T statistic is\",t_statistic)\n",
    "print('\\n')\n",
    "print('\\n')\n",
    "\n",
    "# calculate the degrees of freedom\n",
    "\n",
    "freedom = len(belnine_sample) + len(abovefive_sample) - 2\n",
    "\n",
    "freedom\n",
    "# find the critical value\n",
    "\n",
    "c_value = t.ppf(1.0 - alpha, freedom)\n",
    "\n",
    "c_value\n",
    "print(\"the Critical value is\", c_value)\n",
    "print('\\n')\n",
    "# print('\\n')"
   ]
  },
  {
   "cell_type": "code",
   "execution_count": null,
   "metadata": {
    "colab": {
     "base_uri": "https://localhost:8080/"
    },
    "id": "vbDgOWuLGOvG",
    "outputId": "d1fc939d-026f-4e0f-b7de-404561bd82f0"
   },
   "outputs": [],
   "source": [
    "\n",
    "if abs(t_statistic) <= c_value:\n",
    "\tprint('Accept null hypothesis')\n",
    "else:\n",
    "\tprint('Reject the null hypothesis')"
   ]
  },
  {
   "cell_type": "markdown",
   "metadata": {
    "id": "hG4R-QXmNUCW"
   },
   "source": [
    "# **9. Implementing the Solution**"
   ]
  },
  {
   "cell_type": "markdown",
   "metadata": {
    "id": "jjp1ejoNNm7a"
   },
   "source": [
    "##The findings"
   ]
  },
  {
   "cell_type": "markdown",
   "metadata": {
    "id": "A8TpQPhCNgAm"
   },
   "source": [
    "The data was skewed in the following ways:\n",
    "1. Majority of the data was mostly collected in the year\n",
    "2. Majority of the victims died through shooting\n",
    "3. Majority of the victims who were armed were armed with guns\n",
    "4. Majority of the victims were 25 year olds\n",
    "5. Majority of the victims are Male\n",
    "6. Majority of the victims are white\n",
    "7.  Majority of the shooting incidences happened in Los Angelos\n",
    "8. Most shooting incidences occured in California\n",
    "9. Majority of victims didn't show signs of mental illnesses \n",
    "10. Majority of the victims attacked the police officers\n",
    "11. Majority of the victims did not attempt to flee\n",
    "12. In majority of the incidences, Police did not have the body cameras on\n",
    "13. Majority of the armed victims had guns\n",
    "\n"
   ]
  },
  {
   "cell_type": "markdown",
   "metadata": {
    "id": "hFa0cbeFQeL1"
   },
   "source": [
    "##The Co - relations"
   ]
  },
  {
   "cell_type": "markdown",
   "metadata": {
    "id": "3-1mkUvILmM_"
   },
   "source": [
    "The strongest co-relations are\n",
    "\n",
    "1. Type Arm category and Armed\n",
    "2. Arm category and age\n",
    "3. Arm category and an attempt to flee\n",
    "4. Arm category and Manner of death\n",
    "5. Arms category and threat level\n",
    "6. Race and State location\n",
    "7. Armed and manner of death\n",
    "8. Armed and mental illness\n",
    "9. Armed and threat level\n",
    "10. Mental illness and arms category\n",
    "11. Mental illness and whether suspect was armed\n",
    "12. Mental illness and suspect attempting to flee\n",
    "13. Gender and their attempt to flee\n",
    "14. Body camera and state\n",
    "\n"
   ]
  },
  {
   "cell_type": "markdown",
   "metadata": {
    "id": "2Iqvg-lCKAv0"
   },
   "source": [
    "The weakest co-relations are\n",
    "1. Arms category and state\n",
    "2. Arms category and body camera\n",
    "3. Arms category and race\n",
    "4. Race and an attempt to flee\n",
    "5. Race and gender of victims\n",
    "6. Race and manner of death of victims\n",
    "7. Manner of death and Gender of victim\n",
    "8. Manner of death and Police body camera being on\n",
    "9. Whether vcitim was armed and state\n",
    "10. Whether victim was armed and gender\n",
    "11. Victim's mental health and manner of death\n",
    "12. Victim's mental health and gender\n",
    "13. Victim's mental health and Police body camera being on\n",
    "14. Gender and Manner of death\n",
    "15. Gender and Police body camera being on\n",
    "16. Gender and state where shooting occured\n",
    "17. Body camera being on and level of threat\n",
    "18. Attempt to flee and body camera being on\n",
    "19. Attempt to flee and victim's attempt to flee\n",
    "20. Level if threat and the victim's gendder\n"
   ]
  },
  {
   "cell_type": "markdown",
   "metadata": {
    "id": "DrZ-tT9oQlip"
   },
   "source": [
    "##The Recomendations"
   ]
  },
  {
   "cell_type": "markdown",
   "metadata": {
    "id": "QTQ26ODpQyF9"
   },
   "source": [
    "1. Banks should leverage on the high penetration of mobile phones across the region to increase the banked population\n",
    "2. Education and knowledge about money and banking should be increased. Possibly in the primary school curriculum - This is the common place to reach most of the population\n",
    "3. Farmers, self employed people and people in the informal sector should also be targeted by future marketing campaigns\n",
    "4. There is a great potential for growth of the formal banking sector\n",
    "5. Interestingly, the uptake of formal banking is equal both in rural and urban areas despite more of the skew being towards the rural population. Shows that marketing campaigns should focus their attention to the rural population."
   ]
  }
 ],
 "metadata": {
  "colab": {
   "collapsed_sections": [
    "JjMyGBIGoWLw",
    "8Xg2XcyPMijp",
    "j2mrGSNIMyCC",
    "lMnWZLmVM4oE",
    "9O-9MITedliL",
    "IKVUsF8P-CKq",
    "8C08FlQrZZ3h"
   ],
   "name": "US_POLICE SHOOTING.ipynb",
   "provenance": []
  },
  "kernelspec": {
   "display_name": "Python 3",
   "language": "python",
   "name": "python3"
  },
  "language_info": {
   "codemirror_mode": {
    "name": "ipython",
    "version": 3
   },
   "file_extension": ".py",
   "mimetype": "text/x-python",
   "name": "python",
   "nbconvert_exporter": "python",
   "pygments_lexer": "ipython3",
   "version": "3.8.3"
  }
 },
 "nbformat": 4,
 "nbformat_minor": 1
}
